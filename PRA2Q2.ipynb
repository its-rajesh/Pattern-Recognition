{
  "nbformat": 4,
  "nbformat_minor": 0,
  "metadata": {
    "colab": {
      "provenance": [],
      "collapsed_sections": [
        "IzYE6yWwuhUD",
        "Xl06drGWurtI",
        "_ibGlx11u1pW",
        "GoHsDf8pu7YP",
        "AbLrBcvawY_l",
        "0ajMEKlTwdeF",
        "J6JmcYHZwg_4",
        "Hp6nM1x0yRB7",
        "yNdjbh31vYes",
        "qs5uJd112VL6",
        "WibSCrjy2rpn",
        "EffaVdcCqMJk",
        "1V0DUs4V4zqj"
      ]
    },
    "kernelspec": {
      "name": "python3",
      "display_name": "Python 3"
    },
    "language_info": {
      "name": "python"
    }
  },
  "cells": [
    {
      "cell_type": "markdown",
      "source": [
        "# GMM - UBM for Language Identification"
      ],
      "metadata": {
        "id": "W9D7ft-pulXo"
      }
    },
    {
      "cell_type": "markdown",
      "source": [
        "### Import Statements"
      ],
      "metadata": {
        "id": "IzYE6yWwuhUD"
      }
    },
    {
      "cell_type": "code",
      "execution_count": 1,
      "metadata": {
        "id": "YCk1VIg0yXCF"
      },
      "outputs": [],
      "source": [
        "from sklearn.mixture import GaussianMixture as GM\n",
        "import os\n",
        "import numpy as np\n",
        "import pandas as pd"
      ]
    },
    {
      "cell_type": "code",
      "source": [
        "from google.colab import drive\n",
        "drive.mount('/drive')"
      ],
      "metadata": {
        "colab": {
          "base_uri": "https://localhost:8080/"
        },
        "id": "8L8ZygRIyk4v",
        "outputId": "77dc0cc7-bdad-4f0a-97f0-ed20972772b6"
      },
      "execution_count": 2,
      "outputs": [
        {
          "output_type": "stream",
          "name": "stdout",
          "text": [
            "Mounted at /drive\n"
          ]
        }
      ]
    },
    {
      "cell_type": "markdown",
      "source": [
        "### Reading data & Preprocessing"
      ],
      "metadata": {
        "id": "Xl06drGWurtI"
      }
    },
    {
      "cell_type": "code",
      "source": [
        "path = '/drive/My Drive/Pattern Recognition/Assignment2/CSV Files/'"
      ],
      "metadata": {
        "id": "AVS5sWGEyopv"
      },
      "execution_count": 3,
      "outputs": []
    },
    {
      "cell_type": "code",
      "source": [
        "languages = sorted(os.listdir(path))\n",
        "print(languages)\n",
        "languages_path = [path+i for i in languages]"
      ],
      "metadata": {
        "colab": {
          "base_uri": "https://localhost:8080/"
        },
        "id": "yRJ0UDq2y-5w",
        "outputId": "7f941d11-6ffc-4520-dccf-a0d24e4a82a6"
      },
      "execution_count": 4,
      "outputs": [
        {
          "output_type": "stream",
          "name": "stdout",
          "text": [
            "['asm', 'ben', 'eng', 'guj', 'hin', 'kan', 'mal', 'mar', 'odi', 'pun', 'tam', 'tel']\n"
          ]
        }
      ]
    },
    {
      "cell_type": "code",
      "source": [
        "train_subfolder = 'PB_train/'\n",
        "pb_test_subfolder = 'PB_test/' \n",
        "yt_test_subfolder = 'YT_test/'"
      ],
      "metadata": {
        "id": "uzCc9jIKzEAu"
      },
      "execution_count": 5,
      "outputs": []
    },
    {
      "cell_type": "code",
      "source": [
        "def read_csvfiles(path, subfolder):\n",
        "    out = []\n",
        "    for p in path:\n",
        "        mp = p+'/'+subfolder \n",
        "        files = [mp+i for i in os.listdir(mp)]\n",
        "        l = []\n",
        "        for file in files:\n",
        "            df = pd.read_csv(file, delimiter=',', header=None, encoding='utf-16')\n",
        "            l.append(df)\n",
        "        out.append(l)\n",
        "    return out"
      ],
      "metadata": {
        "id": "OLmBdEA1zLsT"
      },
      "execution_count": 6,
      "outputs": []
    },
    {
      "cell_type": "code",
      "source": [
        "train = read_csvfiles(languages_path, train_subfolder)"
      ],
      "metadata": {
        "id": "j9RPHjXGzQOu"
      },
      "execution_count": 7,
      "outputs": []
    },
    {
      "cell_type": "code",
      "source": [
        "pb_test = read_csvfiles(languages_path, pb_test_subfolder)"
      ],
      "metadata": {
        "id": "lJJTh2X8zSwv"
      },
      "execution_count": 8,
      "outputs": []
    },
    {
      "cell_type": "code",
      "source": [
        "yt_test = read_csvfiles(languages_path, yt_test_subfolder)"
      ],
      "metadata": {
        "id": "QiB2T8LfzW3p"
      },
      "execution_count": 9,
      "outputs": []
    },
    {
      "cell_type": "code",
      "source": [
        "def concat(data):\n",
        "    concat_data = np.empty([0,39])\n",
        "    for i in data:\n",
        "        for j in i:\n",
        "            n = np.array(j)\n",
        "            concat_data = np.concatenate((concat_data,n),axis=0)\n",
        "    return concat_data"
      ],
      "metadata": {
        "id": "TCVEaofjzX57"
      },
      "execution_count": 10,
      "outputs": []
    },
    {
      "cell_type": "markdown",
      "source": [
        "### Pooling data for UBM"
      ],
      "metadata": {
        "id": "_ibGlx11u1pW"
      }
    },
    {
      "cell_type": "code",
      "source": [
        "master_train = concat(train)"
      ],
      "metadata": {
        "id": "cq9XPWWVzbLj"
      },
      "execution_count": 11,
      "outputs": []
    },
    {
      "cell_type": "code",
      "source": [
        "#master_pb_test = concat(pb_test)"
      ],
      "metadata": {
        "id": "rDJV2uMzzdXp"
      },
      "execution_count": 12,
      "outputs": []
    },
    {
      "cell_type": "code",
      "source": [
        "#master_yt_test = concat(yt_test)"
      ],
      "metadata": {
        "id": "vWb2722zzfrI"
      },
      "execution_count": 13,
      "outputs": []
    },
    {
      "cell_type": "markdown",
      "source": [
        "### UBM Model"
      ],
      "metadata": {
        "id": "GoHsDf8pu7YP"
      }
    },
    {
      "cell_type": "code",
      "source": [
        "classifier = GM(n_components=12, init_params='kmeans', covariance_type='full')\n",
        "classifier.fit(master_train)"
      ],
      "metadata": {
        "colab": {
          "base_uri": "https://localhost:8080/"
        },
        "id": "w76QRjrFzhuR",
        "outputId": "8e0bd58e-dcc3-441b-ba92-61415b721e2f"
      },
      "execution_count": 14,
      "outputs": [
        {
          "output_type": "execute_result",
          "data": {
            "text/plain": [
              "GaussianMixture(n_components=12)"
            ]
          },
          "metadata": {},
          "execution_count": 14
        }
      ]
    },
    {
      "cell_type": "code",
      "source": [
        "print('WEIGHTS:', classifier.weights_)"
      ],
      "metadata": {
        "colab": {
          "base_uri": "https://localhost:8080/"
        },
        "id": "BoPYfG5_zkn3",
        "outputId": "e766d2bb-2312-4dde-99ff-fc08d6f3b20d"
      },
      "execution_count": 15,
      "outputs": [
        {
          "output_type": "stream",
          "name": "stdout",
          "text": [
            "WEIGHTS: [0.09735499 0.06006762 0.14449302 0.08413482 0.06280968 0.09127711\n",
            " 0.05298223 0.07597854 0.0935676  0.11373971 0.07029737 0.05329731]\n"
          ]
        }
      ]
    },
    {
      "cell_type": "markdown",
      "source": [
        "*means to be adapted*"
      ],
      "metadata": {
        "id": "5QZnuLckvPv1"
      }
    },
    {
      "cell_type": "code",
      "source": [
        "mean = classifier.means_\n",
        "cov = classifier.covariances_"
      ],
      "metadata": {
        "id": "xsO3HHWSuS9y"
      },
      "execution_count": 25,
      "outputs": []
    },
    {
      "cell_type": "markdown",
      "source": [
        "### Individual Features Extration"
      ],
      "metadata": {
        "id": "LCieLqfOvkvi"
      }
    },
    {
      "cell_type": "markdown",
      "source": [
        "##### Preprocessing data"
      ],
      "metadata": {
        "id": "AbLrBcvawY_l"
      }
    },
    {
      "cell_type": "code",
      "source": [
        "def read_data(path):\n",
        "    subpath = [path+'/PB_train/', path+'/PB_test/', path+'/YT_test/'] \n",
        "    data = []\n",
        "    for p in subpath:\n",
        "        temp = []\n",
        "        for files in os.listdir(p):\n",
        "            df = pd.read_csv(p+files, delimiter=',', header=None, encoding='utf-16')\n",
        "            temp.append(np.array(df))\n",
        "        data.append(temp)\n",
        "\n",
        "    return data[0], data[1], data[2]"
      ],
      "metadata": {
        "id": "9OOsIucTvvoi"
      },
      "execution_count": 21,
      "outputs": []
    },
    {
      "cell_type": "code",
      "source": [
        "def concat(data):\n",
        "    concat_data = np.empty([0,39])\n",
        "    for i in data:\n",
        "        n = np.array(i)\n",
        "        concat_data = np.concatenate((concat_data,n),axis=0)\n",
        "    return concat_data"
      ],
      "metadata": {
        "id": "vWtEx35Bvvji"
      },
      "execution_count": 22,
      "outputs": []
    },
    {
      "cell_type": "markdown",
      "source": [
        "##### Reading files"
      ],
      "metadata": {
        "id": "0ajMEKlTwdeF"
      }
    },
    {
      "cell_type": "code",
      "source": [
        "asm_train, asm_pbtest, asm_yttest = read_data(languages_path[0])\n",
        "asm_train = concat(asm_train)\n",
        "ben_train, ben_pbtest, ben_yttest = read_data(languages_path[1])\n",
        "ben_train = concat(ben_train)\n",
        "eng_train, eng_pbtest, eng_yttest = read_data(languages_path[2])\n",
        "eng_train = concat(eng_train)\n",
        "guj_train, guj_pbtest, guj_yttest = read_data(languages_path[3])\n",
        "guj_train = concat(guj_train)\n",
        "hin_train, hin_pbtest, hin_yttest = read_data(languages_path[4])\n",
        "hin_train = concat(hin_train)\n",
        "kan_train, kan_pbtest, kan_yttest = read_data(languages_path[5])\n",
        "kan_train = concat(kan_train)\n",
        "mal_train, mal_pbtest, mal_yttest = read_data(languages_path[6])\n",
        "mal_train = concat(mal_train)\n",
        "mar_train, mar_pbtest, mar_yttest = read_data(languages_path[7])\n",
        "mar_train = concat(mar_train)\n",
        "odi_train, odi_pbtest, odi_yttest = read_data(languages_path[8])\n",
        "odi_train = concat(odi_train)\n",
        "pun_train, pun_pbtest, pun_yttest = read_data(languages_path[9])\n",
        "pun_train = concat(pun_train)\n",
        "tam_train, tam_pbtest, tam_yttest = read_data(languages_path[10])\n",
        "tam_train = concat(tam_train)\n",
        "tel_train, tel_pbtest, tel_yttest = read_data(languages_path[11])\n",
        "tel_train = concat(tel_train)"
      ],
      "metadata": {
        "id": "XlV4bG0yvvgv"
      },
      "execution_count": 23,
      "outputs": []
    },
    {
      "cell_type": "markdown",
      "source": [
        "##### Building Individual Classifiers"
      ],
      "metadata": {
        "id": "J6JmcYHZwg_4"
      }
    },
    {
      "cell_type": "code",
      "source": [
        "asm = GM(n_components=1, init_params='kmeans', covariance_type='full')\n",
        "asm.fit(asm_train)\n",
        "ben = GM(n_components=1, init_params='kmeans', covariance_type='full')\n",
        "ben.fit(ben_train)\n",
        "eng = GM(n_components=1, init_params='kmeans', covariance_type='full')\n",
        "eng.fit(eng_train)\n",
        "guj = GM(n_components=1, init_params='kmeans', covariance_type='full')\n",
        "guj.fit(guj_train)\n",
        "hin = GM(n_components=1, init_params='kmeans', covariance_type='full')\n",
        "hin.fit(hin_train)\n",
        "kan = GM(n_components=1, init_params='kmeans', covariance_type='full')\n",
        "kan.fit(kan_train)\n",
        "mal = GM(n_components=1, init_params='kmeans', covariance_type='full')\n",
        "mal.fit(mal_train)\n",
        "mar = GM(n_components=1, init_params='kmeans', covariance_type='full')\n",
        "mar.fit(mar_train)\n",
        "odi = GM(n_components=1, init_params='kmeans', covariance_type='full')\n",
        "odi.fit(odi_train)\n",
        "pun = GM(n_components=1, init_params='kmeans', covariance_type='full')\n",
        "pun.fit(pun_train)\n",
        "tam = GM(n_components=1, init_params='kmeans', covariance_type='full')\n",
        "tam.fit(tam_train)\n",
        "tel = GM(n_components=1, init_params='kmeans', covariance_type='full')\n",
        "tel.fit(tel_train)"
      ],
      "metadata": {
        "colab": {
          "base_uri": "https://localhost:8080/"
        },
        "id": "Le29jCM6wgHm",
        "outputId": "83bec235-39d3-40de-bd65-7de83bc89da8"
      },
      "execution_count": 24,
      "outputs": [
        {
          "output_type": "execute_result",
          "data": {
            "text/plain": [
              "GaussianMixture()"
            ]
          },
          "metadata": {},
          "execution_count": 24
        }
      ]
    },
    {
      "cell_type": "markdown",
      "source": [
        "##### Obtaining Partial Estimate of Mean Vector"
      ],
      "metadata": {
        "id": "Hp6nM1x0yRB7"
      }
    },
    {
      "cell_type": "code",
      "source": [
        "asm_mean = asm.means_\n",
        "ben_mean = ben.means_\n",
        "eng_mean = eng.means_\n",
        "guj_mean = guj.means_\n",
        "hin_mean = hin.means_\n",
        "kan_mean = kan.means_\n",
        "mal_mean = mal.means_\n",
        "mar_mean = mar.means_\n",
        "odi_mean = odi.means_\n",
        "pun_mean = pun.means_\n",
        "tam_mean = tam.means_\n",
        "tel_mean = tel.means_\n",
        "\n",
        "partial_means = [asm_mean, ben_mean, eng_mean, guj_mean, hin_mean, kan_mean, mal_mean, mar_mean, odi_mean, pun_mean, tam_mean, tel_mean]"
      ],
      "metadata": {
        "id": "EbZmmAaCyakb"
      },
      "execution_count": 26,
      "outputs": []
    },
    {
      "cell_type": "code",
      "source": [
        "# No of samples in each class:\n",
        "No_samples  = []\n",
        "for i in range(12):\n",
        "  pth = languages_path[i]+'/PB_train/'\n",
        "  No_samples.append(len(os.listdir(pth)))\n",
        "\n",
        "Nk = No_samples\n",
        "Nk"
      ],
      "metadata": {
        "colab": {
          "base_uri": "https://localhost:8080/"
        },
        "id": "5q_CyiddzrXJ",
        "outputId": "6a023d17-d57b-47dc-fb6f-208b81e023f0"
      },
      "execution_count": 28,
      "outputs": [
        {
          "output_type": "execute_result",
          "data": {
            "text/plain": [
              "[719, 379, 244, 358, 359, 391, 398, 241, 398, 242, 241, 388]"
            ]
          },
          "metadata": {},
          "execution_count": 28
        }
      ]
    },
    {
      "cell_type": "markdown",
      "source": [
        "### MAP Adaptation"
      ],
      "metadata": {
        "id": "yNdjbh31vYes"
      }
    },
    {
      "cell_type": "code",
      "source": [
        "def map_adaptation(xk, Nk, mu_k):\n",
        "  r = 0.7\n",
        "  alpha_k = Nk/(Nk + r)\n",
        "  return (alpha_k * xk) + (1 - alpha_k) * mu_k"
      ],
      "metadata": {
        "id": "jhtPz8K7vU_j"
      },
      "execution_count": 30,
      "outputs": []
    },
    {
      "cell_type": "code",
      "source": [
        "map_adaptation(asm_mean, Nk[0], mean).shape"
      ],
      "metadata": {
        "colab": {
          "base_uri": "https://localhost:8080/"
        },
        "id": "QSKVrKbivU86",
        "outputId": "415d4f36-9053-4747-a99f-225e86b95523"
      },
      "execution_count": 33,
      "outputs": [
        {
          "output_type": "execute_result",
          "data": {
            "text/plain": [
              "(12, 39)"
            ]
          },
          "metadata": {},
          "execution_count": 33
        }
      ]
    },
    {
      "cell_type": "code",
      "source": [
        "map_adaptation(ben_mean, Nk[0], mean).shape"
      ],
      "metadata": {
        "colab": {
          "base_uri": "https://localhost:8080/"
        },
        "id": "o_mDnKgivU6T",
        "outputId": "b8c781d0-3466-4299-b67d-3061fe4a0715"
      },
      "execution_count": 34,
      "outputs": [
        {
          "output_type": "execute_result",
          "data": {
            "text/plain": [
              "(12, 39)"
            ]
          },
          "metadata": {},
          "execution_count": 34
        }
      ]
    },
    {
      "cell_type": "code",
      "source": [
        "adapted_mean = []\n",
        "for i in range(12):\n",
        "  val = map_adaptation(partial_means[i], Nk[i], mean)\n",
        "  adapted_mean.append(val)"
      ],
      "metadata": {
        "id": "zOI3iHB5vU3p"
      },
      "execution_count": 36,
      "outputs": []
    },
    {
      "cell_type": "code",
      "source": [
        "adapted_mean = np.array(adapted_mean)"
      ],
      "metadata": {
        "id": "K0SKlIdD17Uy"
      },
      "execution_count": 39,
      "outputs": []
    },
    {
      "cell_type": "markdown",
      "source": [
        "##### Adapted Classifiers"
      ],
      "metadata": {
        "id": "qs5uJd112VL6"
      }
    },
    {
      "cell_type": "code",
      "source": [],
      "metadata": {
        "id": "5fvak7HH17SZ"
      },
      "execution_count": null,
      "outputs": []
    },
    {
      "cell_type": "code",
      "source": [],
      "metadata": {
        "id": "Ot8bI0wq17P7"
      },
      "execution_count": null,
      "outputs": []
    },
    {
      "cell_type": "code",
      "source": [],
      "metadata": {
        "id": "ILHMvqzF17M9"
      },
      "execution_count": null,
      "outputs": []
    },
    {
      "cell_type": "code",
      "source": [],
      "metadata": {
        "id": "A2k741qS17Kk"
      },
      "execution_count": null,
      "outputs": []
    },
    {
      "cell_type": "code",
      "source": [],
      "metadata": {
        "id": "IhiFzcsyvU1V"
      },
      "execution_count": null,
      "outputs": []
    },
    {
      "cell_type": "markdown",
      "source": [
        "### Testing Phase"
      ],
      "metadata": {
        "id": "WibSCrjy2rpn"
      }
    },
    {
      "cell_type": "code",
      "source": [
        "def preprocess(data):\n",
        "  result = []\n",
        "  for i in data:\n",
        "    for j in i:\n",
        "      result.append(np.array(j).reshape(-1, 1))\n",
        "  return np.array(result)"
      ],
      "metadata": {
        "id": "TyJLC-peCOi3"
      },
      "execution_count": 16,
      "outputs": []
    },
    {
      "cell_type": "code",
      "source": [
        "pb_test_prep = preprocess(pb_test)"
      ],
      "metadata": {
        "colab": {
          "base_uri": "https://localhost:8080/"
        },
        "id": "0vpc11RDBZWz",
        "outputId": "2a378d03-a71e-4439-ea36-3d89fa1821ef"
      },
      "execution_count": 17,
      "outputs": [
        {
          "output_type": "stream",
          "name": "stderr",
          "text": [
            "/usr/local/lib/python3.7/dist-packages/ipykernel_launcher.py:6: VisibleDeprecationWarning: Creating an ndarray from ragged nested sequences (which is a list-or-tuple of lists-or-tuples-or ndarrays with different lengths or shapes) is deprecated. If you meant to do this, you must specify 'dtype=object' when creating the ndarray.\n",
            "  \n"
          ]
        }
      ]
    },
    {
      "cell_type": "code",
      "source": [
        "yt_predict = classifier.predict(yt_test)\n",
        "yt_predict"
      ],
      "metadata": {
        "id": "olDr-lUc0Ca1"
      },
      "execution_count": null,
      "outputs": []
    },
    {
      "cell_type": "code",
      "source": [
        "def preprocess(data):\n",
        "  result = []\n",
        "  for i in data:\n",
        "    for j in i:\n",
        "      result.append(np.array(j))\n",
        "  return result"
      ],
      "metadata": {
        "id": "n6EpqXS5D_XA"
      },
      "execution_count": null,
      "outputs": []
    },
    {
      "cell_type": "code",
      "source": [
        "def get_scores(lang, test):\n",
        "    return np.mean(lang.score_samples(test))"
      ],
      "metadata": {
        "id": "669nrSqn0GqJ"
      },
      "execution_count": null,
      "outputs": []
    },
    {
      "cell_type": "code",
      "source": [
        "def get_gt(c, n):\n",
        "    return [c for i in range(n)]"
      ],
      "metadata": {
        "id": "vnCm49pt2j5h"
      },
      "execution_count": null,
      "outputs": []
    },
    {
      "cell_type": "code",
      "source": [
        "def system_predict(dataset):\n",
        "    res = []\n",
        "    for i in dataset:\n",
        "        lh = get_scores(classifier, i)\n",
        "\n",
        "        res.append(lh)\n",
        "        \n",
        "    return res"
      ],
      "metadata": {
        "id": "iwA0tLge2nDG"
      },
      "execution_count": null,
      "outputs": []
    },
    {
      "cell_type": "code",
      "source": [
        "pb_test_prep = preprocess(pb_test)"
      ],
      "metadata": {
        "id": "a1fqspLyEJpu"
      },
      "execution_count": null,
      "outputs": []
    },
    {
      "cell_type": "code",
      "source": [
        "predicted_pb = system_predict(pb_test_prep)\n",
        "#predicted_pb"
      ],
      "metadata": {
        "id": "UjhjSrOI2n5G"
      },
      "execution_count": null,
      "outputs": []
    },
    {
      "cell_type": "code",
      "source": [],
      "metadata": {
        "id": "BTPwZWCU2nur"
      },
      "execution_count": null,
      "outputs": []
    },
    {
      "cell_type": "code",
      "source": [],
      "metadata": {
        "id": "oqiO-B8C2nsF"
      },
      "execution_count": null,
      "outputs": []
    },
    {
      "cell_type": "code",
      "source": [],
      "metadata": {
        "id": "dmvwne562npv"
      },
      "execution_count": null,
      "outputs": []
    },
    {
      "cell_type": "markdown",
      "source": [
        "### Performance Measures"
      ],
      "metadata": {
        "id": "EffaVdcCqMJk"
      }
    },
    {
      "cell_type": "code",
      "source": [
        "from matplotlib import pyplot as plt\n",
        "import numpy as np\n",
        "from scipy.interpolate import make_interp_spline"
      ],
      "metadata": {
        "id": "B8EWSDio2nnk"
      },
      "execution_count": 25,
      "outputs": []
    },
    {
      "cell_type": "code",
      "source": [
        "pb_acc = [0.708, 0.835, 0.869]\n",
        "yt_acc = [0.073, 0.085, 0.083]\n",
        "parms = [1, 5, 12]"
      ],
      "metadata": {
        "id": "WGCzuDzSC8ri"
      },
      "execution_count": 36,
      "outputs": []
    },
    {
      "cell_type": "code",
      "source": [
        "pb_acc_d = [0.581, 0.684, 0.737] #diagn covariance\n",
        "yt_acc_d = [0.083, 0.090, 0.086] #diagn covariance"
      ],
      "metadata": {
        "id": "VtYKVYT3C8op"
      },
      "execution_count": 37,
      "outputs": []
    },
    {
      "cell_type": "code",
      "source": [
        "plt.plot(parms, pb_acc, 'blue')\n",
        "plt.plot(parms, yt_acc, 'yellow')\n",
        "plt.plot(parms, pb_acc_d, 'gray')\n",
        "plt.plot(parms, yt_acc_d, 'red')\n",
        "\n",
        "for i in range(3):\n",
        "  plt.scatter(parms, pb_acc)\n",
        "  plt.scatter(parms, yt_acc)\n",
        "  plt.scatter(parms, pb_acc_d)\n",
        "  plt.scatter(parms, yt_acc_d)\n",
        "\n",
        "\n",
        "plt.title('Performance Vs No of Mixtures')\n",
        "plt.xlabel('No of components')\n",
        "plt.ylabel('Accuracy')\n",
        "plt.legend(['Prasar Bharati (F)', 'YouTube (F)', 'Prasar Bharati (D)', 'YouTube (D)'], loc='upper center', bbox_to_anchor=(0.5, -0.15), ncol=4)\n",
        "plt.xlim(1, 12)\n",
        "plt.ylim(0, 1)\n",
        "plt.grid()\n",
        "plt.show()"
      ],
      "metadata": {
        "colab": {
          "base_uri": "https://localhost:8080/",
          "height": 320
        },
        "id": "mqBZYPebC8l1",
        "outputId": "5bf6262b-ae0c-4203-e47f-531235091225"
      },
      "execution_count": 45,
      "outputs": [
        {
          "output_type": "display_data",
          "data": {
            "text/plain": [
              "<Figure size 432x288 with 1 Axes>"
            ],
            "image/png": "[encoded data removed]"
          },
          "metadata": {
            "needs_background": "light"
          }
        }
      ]
    },
    {
      "cell_type": "markdown",
      "source": [
        "### Test Results"
      ],
      "metadata": {
        "id": "1V0DUs4V4zqj"
      }
    },
    {
      "cell_type": "code",
      "source": [
        "from matplotlib import pyplot as plt"
      ],
      "metadata": {
        "id": "LNLSKHwgFAXf"
      },
      "execution_count": 47,
      "outputs": []
    },
    {
      "cell_type": "code",
      "source": [
        "from sklearn.metrics import confusion_matrix, ConfusionMatrixDisplay"
      ],
      "metadata": {
        "id": "s-S0TL8y3RYX"
      },
      "execution_count": 44,
      "outputs": []
    },
    {
      "cell_type": "code",
      "source": [
        "f1 = f1_score(gt, predicted, average='weighted')\n",
        "precision = precision_score(gt, predicted, average='weighted')\n",
        "recall = recall_score(gt, predicted, average='weighted')\n",
        "accuracy = accuracy_score(gt, predicted)\n",
        "\n",
        "print('Accuracy: ', accuracy)\n",
        "print('Recall: ', recall)\n",
        "print('Precision: ', precision)\n",
        "print('F1 Score: ', f1)"
      ],
      "metadata": {
        "colab": {
          "base_uri": "https://localhost:8080/"
        },
        "id": "DLF7OgnU3QlZ",
        "outputId": "7c40ccc4-1e15-45ec-e648-6a37e77b384a"
      },
      "execution_count": 42,
      "outputs": [
        {
          "output_type": "stream",
          "name": "stdout",
          "text": [
            "Accuracy:  0.961828282827968\n",
            "Recall:  0.9667879622001\n",
            "Precision:  0.9701989827961\n",
            "F1 Score:  0.9596857670979667\n"
          ]
        }
      ]
    },
    {
      "cell_type": "code",
      "source": [
        "lang_dict = {0:'Assam', 1:'Bengali', 2:'English', 3:'Gujarati', 4:'Hindi', \n",
        "             5:'Kannada', 6:'Malayalam', 7:'Marati', 8:'Odissa', 9:'Punjabi', 10:'Tamil', 11:'Telugu'}"
      ],
      "metadata": {
        "id": "PyrPTbkAAgvo"
      },
      "execution_count": 43,
      "outputs": []
    },
    {
      "cell_type": "code",
      "source": [
        "confusion_matrix = metrics.confusion_matrix(gt, predicted, labels=list(lang_dict.keys()))"
      ],
      "metadata": {
        "id": "W-gK2UI-AjLE"
      },
      "execution_count": 66,
      "outputs": []
    },
    {
      "cell_type": "code",
      "source": [
        "disp = ConfusionMatrixDisplay(confusion_matrix=confusion_matrix, display_labels=list(lang_dict.keys()))\n",
        "disp.plot()\n",
        "plt.show()"
      ],
      "metadata": {
        "colab": {
          "base_uri": "https://localhost:8080/",
          "height": 281
        },
        "id": "Zc09FP6Z3YQ1",
        "outputId": "779a5a3d-147f-40ee-b1a0-7aada8e33e6c"
      },
      "execution_count": 68,
      "outputs": [
        {
          "output_type": "display_data",
          "data": {
            "text/plain": [
              "<Figure size 432x288 with 2 Axes>"
            ],
            "image/png": "[encoded data removed]"
          },
          "metadata": {
            "needs_background": "light"
          }
        }
      ]
    },
    {
      "cell_type": "code",
      "source": [],
      "metadata": {
        "id": "O5XzJEfHBpkz"
      },
      "execution_count": null,
      "outputs": []
    }
  ]
}