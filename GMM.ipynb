{
 "cells": [
  {
   "cell_type": "markdown",
   "id": "06675620-9a57-4488-b7d0-cdb7f01c78cf",
   "metadata": {},
   "source": [
    "# Gaussian Mixture Model (EM Algo) for Language Classification"
   ]
  },
  {
   "cell_type": "markdown",
   "id": "6dc263ac-c3d8-4d98-8931-dcdebe48e622",
   "metadata": {
    "tags": []
   },
   "source": [
    "### Imports"
   ]
  },
  {
   "cell_type": "code",
   "execution_count": 66,
   "id": "615355e7-d380-4356-8e4e-71c48966a64b",
   "metadata": {},
   "outputs": [],
   "source": [
    "from sklearn.mixture import GaussianMixture as GM"
   ]
  },
  {
   "cell_type": "code",
   "execution_count": 20,
   "id": "dee0b8c8-84c9-475f-a2d0-216b13b3caea",
   "metadata": {},
   "outputs": [],
   "source": [
    "import os\n",
    "import numpy as np\n",
    "import pandas as pd"
   ]
  },
  {
   "cell_type": "code",
   "execution_count": 4,
   "id": "a9661035-cb55-4568-b473-74b4754b03b6",
   "metadata": {},
   "outputs": [],
   "source": [
    "path = 'C:\\\\Users\\\\Bhuvan Kumar\\\\Desktop\\\\Pattern Recognition\\\\CSV Files\\\\'"
   ]
  },
  {
   "cell_type": "markdown",
   "id": "abcdf3ff-3392-4613-bb60-a3c9f4991a23",
   "metadata": {
    "tags": []
   },
   "source": [
    "### Data Processing"
   ]
  },
  {
   "cell_type": "code",
   "execution_count": 8,
   "id": "0d0d8aa2-b656-4826-8640-ed41fc0bedc8",
   "metadata": {},
   "outputs": [
    {
     "name": "stdout",
     "output_type": "stream",
     "text": [
      "['asm', 'ben', 'eng', 'guj', 'hin', 'kan', 'mal', 'mar', 'odi', 'pun', 'tam', 'tel']\n"
     ]
    }
   ],
   "source": [
    "languages = os.listdir(path)\n",
    "print(languages)\n",
    "languages_path = [path+i for i in languages]"
   ]
  },
  {
   "cell_type": "code",
   "execution_count": 120,
   "id": "932ab3da-c945-4419-a477-4628fbc17350",
   "metadata": {},
   "outputs": [],
   "source": [
    "train_subfolder = 'PB_train\\\\' #UBUNTU CHANGE '\\\\' to '/'\n",
    "pb_test_subfolder = 'PB_test\\\\' #UBUNTU CHANGE '\\\\' to '/'\n",
    "yt_test_subfolder = 'YT_test\\\\' #UBUNTU CHANGE '\\\\' to '/'"
   ]
  },
  {
   "cell_type": "code",
   "execution_count": 60,
   "id": "fe3a427e-a4f5-4065-aba2-b372e73328c8",
   "metadata": {},
   "outputs": [],
   "source": [
    "def read_csvfiles(path, subfolder):\n",
    "    out = []\n",
    "    for p in path:\n",
    "        mp = p+'\\\\'+subfolder #UBUNTU CHANGE '\\\\' to '/'\n",
    "        files = [mp+i for i in os.listdir(mp)]\n",
    "        l = []\n",
    "        for file in files:\n",
    "            df = pd.read_csv(file, delimiter=',', header=None, encoding='utf-16')\n",
    "            l.append(df)\n",
    "        out.append(l)\n",
    "    return out"
   ]
  },
  {
   "cell_type": "code",
   "execution_count": 58,
   "id": "6cbad2d7-455d-4697-a257-0b5346eff9ab",
   "metadata": {},
   "outputs": [],
   "source": [
    "train = read_csvfiles(languages_path, train_subfolder)"
   ]
  },
  {
   "cell_type": "code",
   "execution_count": 63,
   "id": "6990c8fd-efed-4c76-a0c8-658d5cf70155",
   "metadata": {},
   "outputs": [],
   "source": [
    "pb_test = read_csvfiles(languages_path, pb_test_subfolder)"
   ]
  },
  {
   "cell_type": "code",
   "execution_count": 64,
   "id": "4d7ec830-eb5f-4e6a-9d9c-e2df2d256611",
   "metadata": {},
   "outputs": [],
   "source": [
    "yt_test = read_csvfiles(languages_path, yt_test_subfolder)"
   ]
  },
  {
   "cell_type": "code",
   "execution_count": 82,
   "id": "73dc46d6-23e8-4cbc-a5c9-181915b5652d",
   "metadata": {},
   "outputs": [],
   "source": [
    "def concat(data):\n",
    "    concat_data = np.empty([0,39])\n",
    "    for i in data:\n",
    "        for j in i:\n",
    "            n = np.array(j)\n",
    "            concat_data = np.concatenate((concat_data,n),axis=0)\n",
    "    return concat_data"
   ]
  },
  {
   "cell_type": "code",
   "execution_count": 83,
   "id": "4be1c3e3-7bc2-4a9f-980e-15cf82769ed8",
   "metadata": {},
   "outputs": [],
   "source": [
    "master_train = concat(train)"
   ]
  },
  {
   "cell_type": "code",
   "execution_count": 87,
   "id": "210d328b-6c4b-4d82-a0ed-9e0a4044955d",
   "metadata": {},
   "outputs": [],
   "source": [
    "master_pb_test = concat(pb_test)"
   ]
  },
  {
   "cell_type": "code",
   "execution_count": 90,
   "id": "59bf99db-0ce2-4f40-94f1-d0e0a7de4a24",
   "metadata": {},
   "outputs": [],
   "source": [
    "master_yt_test = concat(yt_test)"
   ]
  },
  {
   "cell_type": "markdown",
   "id": "32e147f4-aa41-4b30-a76a-7034dbc83f98",
   "metadata": {
    "tags": []
   },
   "source": [
    "### Building  Classifier"
   ]
  },
  {
   "cell_type": "code",
   "execution_count": 123,
   "id": "0ebbc06f-1533-4a29-b53e-9128884a5fb1",
   "metadata": {},
   "outputs": [
    {
     "data": {
      "text/plain": [
       "GaussianMixture(n_components=12)"
      ]
     },
     "execution_count": 123,
     "metadata": {},
     "output_type": "execute_result"
    }
   ],
   "source": [
    "classifier = GM(n_components=12, init_params='kmeans', covariance_type='full')\n",
    "classifier.fit(master_train)"
   ]
  },
  {
   "cell_type": "code",
   "execution_count": 125,
   "id": "1138db79-dd72-47ae-a506-e761417bdbcd",
   "metadata": {},
   "outputs": [
    {
     "name": "stdout",
     "output_type": "stream",
     "text": [
      "WEIGHTS: [0.03812809 0.09455359 0.0479244  0.10130272 0.10211541 0.09962582\n",
      " 0.09133891 0.09329428 0.11511457 0.07844883 0.07216505 0.06598833]\n"
     ]
    }
   ],
   "source": [
    "print('WEIGHTS:', classifier.weights_)\n",
    "#print('MEAN:', classifier.means_)\n",
    "#print('COVARIANCE:', classifier.covariances_)"
   ]
  },
  {
   "cell_type": "markdown",
   "id": "d1bab789-c656-4840-9420-59daa0c5f4fb",
   "metadata": {
    "tags": []
   },
   "source": [
    "### Testing"
   ]
  },
  {
   "cell_type": "code",
   "execution_count": 126,
   "id": "84fb2940-b481-49a0-af75-60607204e649",
   "metadata": {},
   "outputs": [],
   "source": [
    "pb_predict = classifier.predict(master_pb_test)"
   ]
  },
  {
   "cell_type": "code",
   "execution_count": 127,
   "id": "43a82d14-a6bc-40ac-a41d-19d5c7b7cf71",
   "metadata": {},
   "outputs": [
    {
     "data": {
      "text/plain": [
       "array([1, 1, 6, ..., 2, 7, 7], dtype=int64)"
      ]
     },
     "execution_count": 127,
     "metadata": {},
     "output_type": "execute_result"
    }
   ],
   "source": [
    "pb_predict"
   ]
  },
  {
   "cell_type": "code",
   "execution_count": 128,
   "id": "3a034891-5552-4f29-9761-7516e0954567",
   "metadata": {},
   "outputs": [],
   "source": [
    "yt_predict = classifier.predict(master_yt_test)"
   ]
  },
  {
   "cell_type": "code",
   "execution_count": 129,
   "id": "a83220da-3311-4b6e-92fe-e14f09001628",
   "metadata": {},
   "outputs": [
    {
     "data": {
      "text/plain": [
       "array([7, 7, 3, ..., 8, 8, 8], dtype=int64)"
      ]
     },
     "execution_count": 129,
     "metadata": {},
     "output_type": "execute_result"
    }
   ],
   "source": [
    "yt_predict"
   ]
  },
  {
   "cell_type": "markdown",
   "id": "fd4666b5-039a-41b6-b31c-2e2907bc1e9f",
   "metadata": {},
   "source": [
    "### Result Parameters"
   ]
  },
  {
   "cell_type": "code",
   "execution_count": 149,
   "id": "1fd88ddd-0ca0-4e15-89ad-2f73fd4bc46e",
   "metadata": {},
   "outputs": [
    {
     "name": "stdout",
     "output_type": "stream",
     "text": [
      "359\n",
      "179\n",
      "116\n",
      "179\n",
      "179\n",
      "197\n",
      "196\n",
      "117\n",
      "199\n",
      "124\n",
      "125\n",
      "194\n"
     ]
    }
   ],
   "source": [
    "n_pb = []\n",
    "for i in pb_test:\n",
    "    print(len(i))"
   ]
  },
  {
   "cell_type": "code",
   "execution_count": 143,
   "id": "6729ea84-b6af-487f-a8bb-0c06a34580aa",
   "metadata": {},
   "outputs": [
    {
     "data": {
      "text/plain": [
       "(519095, 2164, 519095)"
      ]
     },
     "execution_count": 143,
     "metadata": {},
     "output_type": "execute_result"
    }
   ],
   "source": [
    "len(pb_predict), len(pb_gt), len(master_pb_test)"
   ]
  },
  {
   "cell_type": "code",
   "execution_count": 144,
   "id": "8f383554-07a9-49e3-8e1d-9564d34a5865",
   "metadata": {},
   "outputs": [],
   "source": [
    "n_yt = []\n",
    "for i in master_yt_test:\n",
    "    n_yt.append(len(i))\n",
    "    \n",
    "yt_gt = []\n",
    "k = 0\n",
    "for i in n_yt:\n",
    "    for j in range(i):\n",
    "        yt_gt.append(k)\n",
    "    k+=1"
   ]
  },
  {
   "cell_type": "code",
   "execution_count": 145,
   "id": "8840118c-274f-4188-8f3b-7b6da21db025",
   "metadata": {},
   "outputs": [
    {
     "data": {
      "text/plain": [
       "(458388, 17877132)"
      ]
     },
     "execution_count": 145,
     "metadata": {},
     "output_type": "execute_result"
    }
   ],
   "source": [
    "len(yt_predict), len(yt_gt)"
   ]
  },
  {
   "cell_type": "code",
   "execution_count": null,
   "id": "89b498bd-92f1-4413-b708-8532d66e598d",
   "metadata": {},
   "outputs": [],
   "source": []
  }
 ],
 "metadata": {
  "kernelspec": {
   "display_name": "Python 3 (ipykernel)",
   "language": "python",
   "name": "python3"
  },
  "language_info": {
   "codemirror_mode": {
    "name": "ipython",
    "version": 3
   },
   "file_extension": ".py",
   "mimetype": "text/x-python",
   "name": "python",
   "nbconvert_exporter": "python",
   "pygments_lexer": "ipython3",
   "version": "3.9.12"
  }
 },
 "nbformat": 4,
 "nbformat_minor": 5
}
