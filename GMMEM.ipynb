{
 "cells": [
  {
   "cell_type": "markdown",
   "id": "06675620-9a57-4488-b7d0-cdb7f01c78cf",
   "metadata": {},
   "source": [
    "# Gaussian Mixture Model (EM Algo) for Language Classification"
   ]
  },
  {
   "cell_type": "markdown",
   "id": "6dc263ac-c3d8-4d98-8931-dcdebe48e622",
   "metadata": {
    "tags": []
   },
   "source": [
    "### Imports"
   ]
  },
  {
   "cell_type": "code",
   "execution_count": 95,
   "id": "615355e7-d380-4356-8e4e-71c48966a64b",
   "metadata": {},
   "outputs": [],
   "source": [
    "from sklearn.mixture import GaussianMixture as GM\n",
    "from sklearn import metrics\n",
    "import matplotlib.pyplot as plt"
   ]
  },
  {
   "cell_type": "code",
   "execution_count": 2,
   "id": "dee0b8c8-84c9-475f-a2d0-216b13b3caea",
   "metadata": {},
   "outputs": [],
   "source": [
    "import os\n",
    "import numpy as np\n",
    "import pandas as pd"
   ]
  },
  {
   "cell_type": "code",
   "execution_count": 3,
   "id": "a9661035-cb55-4568-b473-74b4754b03b6",
   "metadata": {},
   "outputs": [],
   "source": [
    "path = 'C:\\\\Users\\\\Bhuvan Kumar\\\\Desktop\\\\Pattern Recognition\\\\CSV Files\\\\'"
   ]
  },
  {
   "cell_type": "code",
   "execution_count": 101,
   "id": "7e180d16-ed1e-4c26-980a-737058c2855e",
   "metadata": {},
   "outputs": [],
   "source": [
    "lang_dict = {0:'Assam', 1:'Bengali', 2:'English', 3:'Gujarati', 4:'Hindi', \n",
    "             5:'Kannada', 6:'Malayalam', 7:'Marati', 8:'Odissa', 9:'Punjabi', 10:'Tamil', 11:'Telugu'}"
   ]
  },
  {
   "cell_type": "code",
   "execution_count": 10,
   "id": "78ca4eb9-041a-441d-a211-c257dfab6a8b",
   "metadata": {},
   "outputs": [
    {
     "name": "stdout",
     "output_type": "stream",
     "text": [
      "['asm', 'ben', 'eng', 'guj', 'hin', 'kan', 'mal', 'mar', 'odi', 'pun', 'tam', 'tel']\n"
     ]
    }
   ],
   "source": [
    "languages = sorted(os.listdir(path))\n",
    "print(languages)\n",
    "languages_path = [path+i for i in languages]"
   ]
  },
  {
   "cell_type": "markdown",
   "id": "f758efa8-7320-407e-b8ab-97dca51db603",
   "metadata": {
    "jp-MarkdownHeadingCollapsed": true,
    "tags": []
   },
   "source": [
    "### Data Processing (Reading data language wise)"
   ]
  },
  {
   "cell_type": "code",
   "execution_count": 30,
   "id": "ba8d0bb3-8cd3-48b6-965e-54097cea9900",
   "metadata": {},
   "outputs": [],
   "source": [
    "def read_data(path):\n",
    "    subpath = [path+'\\\\PB_train\\\\', path+'\\\\PB_test\\\\', path+'\\\\YT_test\\\\'] #UBUNTU CHANGE '\\\\' to '/'\n",
    "    data = []\n",
    "    for p in subpath:\n",
    "        temp = []\n",
    "        for files in os.listdir(p):\n",
    "            df = pd.read_csv(p+files, delimiter=',', header=None, encoding='utf-16')\n",
    "            temp.append(np.array(df))\n",
    "        data.append(temp)\n",
    "\n",
    "    return data[0], data[1], data[2]"
   ]
  },
  {
   "cell_type": "code",
   "execution_count": 32,
   "id": "b6e75596-b23f-49fe-bd02-ee835c6b0b67",
   "metadata": {},
   "outputs": [],
   "source": [
    "def concat(data):\n",
    "    concat_data = np.empty([0,39])\n",
    "    for i in data:\n",
    "        n = np.array(i)\n",
    "        concat_data = np.concatenate((concat_data,n),axis=0)\n",
    "    return concat_data"
   ]
  },
  {
   "cell_type": "markdown",
   "id": "69d8e62f-aefe-4e01-8e9c-0eb35e9e116d",
   "metadata": {
    "tags": []
   },
   "source": [
    "### Getting data for all classes"
   ]
  },
  {
   "cell_type": "code",
   "execution_count": 79,
   "id": "4d38a478-f257-419c-ae62-cecdb3be632c",
   "metadata": {},
   "outputs": [],
   "source": [
    "asm_train, asm_pbtest, asm_yttest = read_data(languages_path[0])\n",
    "asm_train = concat(asm_train)"
   ]
  },
  {
   "cell_type": "code",
   "execution_count": 111,
   "id": "701f4bde-ec7e-428c-a7a2-140086dbd1b5",
   "metadata": {},
   "outputs": [],
   "source": [
    "ben_train, ben_pbtest, ben_yttest = read_data(languages_path[1])\n",
    "ben_train = concat(ben_train)"
   ]
  },
  {
   "cell_type": "code",
   "execution_count": 114,
   "id": "21d01ab1-a20d-493d-91be-40771c5108a3",
   "metadata": {},
   "outputs": [],
   "source": [
    "eng_train, eng_pbtest, eng_yttest = read_data(languages_path[2])\n",
    "eng_train = concat(eng_train)"
   ]
  },
  {
   "cell_type": "code",
   "execution_count": 115,
   "id": "defbdeda-ac41-42c5-b296-001c9927ed54",
   "metadata": {},
   "outputs": [],
   "source": [
    "guj_train, guj_pbtest, guj_yttest = read_data(languages_path[3])\n",
    "guj_train = concat(guj_train)"
   ]
  },
  {
   "cell_type": "code",
   "execution_count": 116,
   "id": "d8fd5646-2239-43a3-b0c0-b0b7ca1741f2",
   "metadata": {},
   "outputs": [],
   "source": [
    "hin_train, hin_pbtest, hin_yttest = read_data(languages_path[4])\n",
    "hin_train = concat(hin_train)"
   ]
  },
  {
   "cell_type": "code",
   "execution_count": 117,
   "id": "852681a7-9dbc-4717-85df-c22e91762d2d",
   "metadata": {},
   "outputs": [],
   "source": [
    "kan_train, kan_pbtest, kan_yttest = read_data(languages_path[5])\n",
    "kan_train = concat(kan_train)"
   ]
  },
  {
   "cell_type": "code",
   "execution_count": 118,
   "id": "4b480f31-ffed-437f-a421-e8c5bdd57b50",
   "metadata": {},
   "outputs": [],
   "source": [
    "mal_train, mal_pbtest, mal_yttest = read_data(languages_path[6])\n",
    "mal_train = concat(mal_train)"
   ]
  },
  {
   "cell_type": "code",
   "execution_count": 119,
   "id": "fc53df5f-bc37-485d-98d3-232a5b0645d3",
   "metadata": {},
   "outputs": [],
   "source": [
    "mar_train, mar_pbtest, mar_yttest = read_data(languages_path[7])\n",
    "mar_train = concat(mar_train)"
   ]
  },
  {
   "cell_type": "code",
   "execution_count": 120,
   "id": "fc5e3cc5-af0a-4592-a63b-5e8e3892b8af",
   "metadata": {},
   "outputs": [],
   "source": [
    "odi_train, odi_pbtest, odi_yttest = read_data(languages_path[8])\n",
    "odi_train = concat(odi_train)"
   ]
  },
  {
   "cell_type": "code",
   "execution_count": 121,
   "id": "ce2e81bf-c672-46f6-8048-30c6077d7b24",
   "metadata": {},
   "outputs": [],
   "source": [
    "pun_train, pun_pbtest, pun_yttest = read_data(languages_path[9])\n",
    "pun_train = concat(pun_train)"
   ]
  },
  {
   "cell_type": "code",
   "execution_count": 122,
   "id": "742a45d8-4108-4d7e-abc8-ccc03c148925",
   "metadata": {},
   "outputs": [],
   "source": [
    "tam_train, tam_pbtest, tam_yttest = read_data(languages_path[10])\n",
    "tam_train = concat(tam_train)"
   ]
  },
  {
   "cell_type": "code",
   "execution_count": 123,
   "id": "714eb432-790f-4549-8ef2-7e922439b0bb",
   "metadata": {},
   "outputs": [],
   "source": [
    "tel_train, tel_pbtest, tel_yttest = read_data(languages_path[11])\n",
    "tel_train = concat(tel_train)"
   ]
  },
  {
   "cell_type": "markdown",
   "id": "11abf46b-891e-4223-9a85-3d0320572dde",
   "metadata": {
    "jp-MarkdownHeadingCollapsed": true,
    "tags": []
   },
   "source": [
    "### Building GMM Classifier"
   ]
  },
  {
   "cell_type": "markdown",
   "id": "0e7d186c-3cef-4861-9ee0-ec40c16dbad6",
   "metadata": {},
   "source": [
    "#### Class1: Assam"
   ]
  },
  {
   "cell_type": "code",
   "execution_count": 61,
   "id": "d8772249-4bad-4c06-8398-9f457f1f6730",
   "metadata": {},
   "outputs": [
    {
     "name": "stdout",
     "output_type": "stream",
     "text": [
      "WEIGHTS: [1.]\n"
     ]
    }
   ],
   "source": [
    "asm = GM(n_components=1, init_params='kmeans', covariance_type='full')\n",
    "asm.fit(asm_train)\n",
    "print('WEIGHTS:', asm.weights_)\n",
    "#print('MEAN:', asm.means_)\n",
    "#print('COVARIANCE:', asm.covariances_)"
   ]
  },
  {
   "cell_type": "markdown",
   "id": "88cc4f15-d482-4843-b8ac-53f3e458ac32",
   "metadata": {},
   "source": [
    "#### Class2: Bengali"
   ]
  },
  {
   "cell_type": "code",
   "execution_count": 62,
   "id": "1b4a4134-fa7d-4e8b-ae2f-decbac87dbb3",
   "metadata": {},
   "outputs": [
    {
     "name": "stdout",
     "output_type": "stream",
     "text": [
      "WEIGHTS: [1.]\n"
     ]
    }
   ],
   "source": [
    "ben = GM(n_components=1, init_params='kmeans', covariance_type='full')\n",
    "ben.fit(ben_train)\n",
    "print('WEIGHTS:', ben.weights_)"
   ]
  },
  {
   "cell_type": "markdown",
   "id": "379ab204-4f2a-43d3-bb84-520008c63c64",
   "metadata": {},
   "source": [
    "#### Class3: English"
   ]
  },
  {
   "cell_type": "code",
   "execution_count": 63,
   "id": "4fa63acf-efc8-48e2-8bcd-d3c0318b697a",
   "metadata": {},
   "outputs": [
    {
     "name": "stdout",
     "output_type": "stream",
     "text": [
      "WEIGHTS: [1.]\n"
     ]
    }
   ],
   "source": [
    "eng = GM(n_components=1, init_params='kmeans', covariance_type='full')\n",
    "eng.fit(eng_train)\n",
    "print('WEIGHTS:', eng.weights_)"
   ]
  },
  {
   "cell_type": "markdown",
   "id": "51d1f3c0-24ba-40d7-bb6b-d58a42e5caa3",
   "metadata": {},
   "source": [
    "#### Class4: Gujarati"
   ]
  },
  {
   "cell_type": "code",
   "execution_count": 64,
   "id": "27ec4687-d809-450e-95ca-fc21187524ef",
   "metadata": {},
   "outputs": [
    {
     "name": "stdout",
     "output_type": "stream",
     "text": [
      "WEIGHTS: [1.]\n"
     ]
    }
   ],
   "source": [
    "guj = GM(n_components=1, init_params='kmeans', covariance_type='full')\n",
    "guj.fit(guj_train)\n",
    "print('WEIGHTS:', guj.weights_)"
   ]
  },
  {
   "cell_type": "markdown",
   "id": "61c99940-75ca-44ff-9df5-a6a6a93f46a8",
   "metadata": {},
   "source": [
    "#### Class5: Hindi"
   ]
  },
  {
   "cell_type": "code",
   "execution_count": 65,
   "id": "a345662d-f154-44dd-a091-167e0a173975",
   "metadata": {},
   "outputs": [
    {
     "name": "stdout",
     "output_type": "stream",
     "text": [
      "WEIGHTS: [1.]\n"
     ]
    }
   ],
   "source": [
    "hin = GM(n_components=1, init_params='kmeans', covariance_type='full')\n",
    "hin.fit(hin_train)\n",
    "print('WEIGHTS:', hin.weights_)"
   ]
  },
  {
   "cell_type": "markdown",
   "id": "4bb61952-fa86-4465-b21d-039542b7d84e",
   "metadata": {},
   "source": [
    "#### Class6: Kannada"
   ]
  },
  {
   "cell_type": "code",
   "execution_count": 66,
   "id": "1d644373-e279-4eee-9a8d-4e5169e698a1",
   "metadata": {},
   "outputs": [
    {
     "name": "stdout",
     "output_type": "stream",
     "text": [
      "WEIGHTS: [1.]\n"
     ]
    }
   ],
   "source": [
    "kan = GM(n_components=1, init_params='kmeans', covariance_type='full')\n",
    "kan.fit(kan_train)\n",
    "print('WEIGHTS:', kan.weights_)"
   ]
  },
  {
   "cell_type": "markdown",
   "id": "94a09033-4412-4801-879f-7c8171d812ed",
   "metadata": {},
   "source": [
    "#### Class7: Malayalam"
   ]
  },
  {
   "cell_type": "code",
   "execution_count": 67,
   "id": "77428826-3976-4ca9-8980-2ff298b8dfef",
   "metadata": {},
   "outputs": [
    {
     "name": "stdout",
     "output_type": "stream",
     "text": [
      "WEIGHTS: [1.]\n"
     ]
    }
   ],
   "source": [
    "mal = GM(n_components=1, init_params='kmeans', covariance_type='full')\n",
    "mal.fit(mal_train)\n",
    "print('WEIGHTS:', mal.weights_)"
   ]
  },
  {
   "cell_type": "markdown",
   "id": "cafe82ca-560c-4a80-8589-5bb15400e3d8",
   "metadata": {},
   "source": [
    "#### Class8: Marathi"
   ]
  },
  {
   "cell_type": "code",
   "execution_count": 68,
   "id": "41c115cb-aa76-4de7-8703-5c78cf4beac1",
   "metadata": {},
   "outputs": [
    {
     "name": "stdout",
     "output_type": "stream",
     "text": [
      "WEIGHTS: [1.]\n"
     ]
    }
   ],
   "source": [
    "mar = GM(n_components=1, init_params='kmeans', covariance_type='full')\n",
    "mar.fit(mar_train)\n",
    "print('WEIGHTS:', mar.weights_)"
   ]
  },
  {
   "cell_type": "markdown",
   "id": "744787a1-575e-472d-baaf-8b4c95940512",
   "metadata": {},
   "source": [
    "#### Class9: Odissa"
   ]
  },
  {
   "cell_type": "code",
   "execution_count": 69,
   "id": "a05494f9-67aa-4178-be7c-c032cd79dea9",
   "metadata": {},
   "outputs": [
    {
     "name": "stdout",
     "output_type": "stream",
     "text": [
      "WEIGHTS: [1.]\n"
     ]
    }
   ],
   "source": [
    "odi = GM(n_components=1, init_params='kmeans', covariance_type='full')\n",
    "odi.fit(odi_train)\n",
    "print('WEIGHTS:', odi.weights_)"
   ]
  },
  {
   "cell_type": "markdown",
   "id": "0f1432b7-78ed-4ce8-9257-89c948e5a1a8",
   "metadata": {},
   "source": [
    "#### Class10: Punjabi"
   ]
  },
  {
   "cell_type": "code",
   "execution_count": 70,
   "id": "996061e8-15aa-44ee-aaf5-3e344b2bfc02",
   "metadata": {},
   "outputs": [
    {
     "name": "stdout",
     "output_type": "stream",
     "text": [
      "WEIGHTS: [1.]\n"
     ]
    }
   ],
   "source": [
    "pun = GM(n_components=1, init_params='kmeans', covariance_type='full')\n",
    "pun.fit(pun_train)\n",
    "print('WEIGHTS:', pun.weights_)"
   ]
  },
  {
   "cell_type": "markdown",
   "id": "05f70b25-7321-4f01-812e-2ad66cb52de0",
   "metadata": {},
   "source": [
    "#### Class11: Tamil"
   ]
  },
  {
   "cell_type": "code",
   "execution_count": 71,
   "id": "64e59dbc-6130-4845-b037-42edf9e0b46e",
   "metadata": {},
   "outputs": [
    {
     "name": "stdout",
     "output_type": "stream",
     "text": [
      "WEIGHTS: [1.]\n"
     ]
    }
   ],
   "source": [
    "tam = GM(n_components=1, init_params='kmeans', covariance_type='full')\n",
    "tam.fit(tam_train)\n",
    "print('WEIGHTS:', tam.weights_)"
   ]
  },
  {
   "cell_type": "markdown",
   "id": "f11818de-2399-4a68-afaa-f0721649d0d7",
   "metadata": {},
   "source": [
    "#### Class12: Telugu"
   ]
  },
  {
   "cell_type": "code",
   "execution_count": 72,
   "id": "bb21bee1-6bea-406d-a6b8-4fad85f8956b",
   "metadata": {},
   "outputs": [
    {
     "name": "stdout",
     "output_type": "stream",
     "text": [
      "WEIGHTS: [1.]\n"
     ]
    }
   ],
   "source": [
    "tel = GM(n_components=1, init_params='kmeans', covariance_type='full')\n",
    "tel.fit(tel_train)\n",
    "print('WEIGHTS:', tel.weights_)"
   ]
  },
  {
   "cell_type": "markdown",
   "id": "38aa9b7d-0c2b-4af6-b5c4-32ec23087f22",
   "metadata": {},
   "source": [
    "### Testing"
   ]
  },
  {
   "cell_type": "code",
   "execution_count": 78,
   "id": "4802e6f4-5c56-46c2-99d7-24878d47146e",
   "metadata": {},
   "outputs": [],
   "source": [
    "def detect(val):\n",
    "    lang_dict = {0:'Assam', 1:'Bengali', 2:'English', 3:'Gujarati', 4:'Hindi', \n",
    "             5:'Kannada', 6:'Malayalam', 7:'Marati', 8:'Odissa', 9:'Punjabi', 10:'Tamil', 11:'Telugu'}\n",
    "    return lang_dict[val]"
   ]
  },
  {
   "cell_type": "code",
   "execution_count": 76,
   "id": "aaf8c55b-f8f0-4304-9a82-9daaf39eff83",
   "metadata": {},
   "outputs": [],
   "source": [
    "def get_scores(lang, test):\n",
    "    return np.mean(lang.score_samples(test))"
   ]
  },
  {
   "cell_type": "code",
   "execution_count": 135,
   "id": "fd3a0ff0-7cd1-4f80-9a55-05deeed294df",
   "metadata": {},
   "outputs": [],
   "source": [
    "def get_gt(c, n):\n",
    "    return [c for i in range(n)]"
   ]
  },
  {
   "cell_type": "code",
   "execution_count": 108,
   "id": "7f3bc795-a67d-465f-a99c-5832b2482158",
   "metadata": {},
   "outputs": [],
   "source": [
    "def system_predict(dataset):\n",
    "    res = []\n",
    "    for i in dataset:\n",
    "        lh = [get_scores(asm, i), get_scores(ben, i), get_scores(eng, i),\n",
    "             get_scores(guj, i), get_scores(hin, i), get_scores(kan, i),\n",
    "             get_scores(mal, i), get_scores(mar, i), get_scores(odi, i),\n",
    "             get_scores(pun, i), get_scores(tam, i), get_scores(tel, i)]\n",
    "\n",
    "        res.append(np.argmax(lh))\n",
    "\n",
    "    #gt = np.zeros(len(res))\n",
    "    #print('Most language detected as: ', detect(res[0]))\n",
    "    return res"
   ]
  },
  {
   "cell_type": "markdown",
   "id": "a677a9db-30e4-4826-8aa5-d8ab7c64cf6c",
   "metadata": {},
   "source": [
    "#### PB Test Data"
   ]
  },
  {
   "cell_type": "code",
   "execution_count": 124,
   "id": "71301e64-ba41-44dd-b59a-8dfc70e48995",
   "metadata": {},
   "outputs": [],
   "source": [
    "predicted_asm = system_predict(asm_pbtest)\n",
    "predicted_ben = system_predict(ben_pbtest)\n",
    "predicted_eng = system_predict(eng_pbtest)\n",
    "predicted_guj = system_predict(guj_pbtest)\n",
    "predicted_hin = system_predict(hin_pbtest)\n",
    "predicted_kan = system_predict(kan_pbtest)\n",
    "predicted_mal = system_predict(mal_pbtest)\n",
    "predicted_mar = system_predict(mar_pbtest)\n",
    "predicted_odi = system_predict(odi_pbtest)\n",
    "predicted_pun = system_predict(pun_pbtest)\n",
    "predicted_tam = system_predict(tam_pbtest)\n",
    "predicted_tel = system_predict(tel_pbtest)"
   ]
  },
  {
   "cell_type": "code",
   "execution_count": 136,
   "id": "fc941eeb-497c-4177-a3e7-34d17292e8fc",
   "metadata": {},
   "outputs": [],
   "source": [
    "gt_asm = get_gt(0, len(predicted_asm))\n",
    "gt_ben = get_gt(1, len(predicted_ben))\n",
    "gt_eng = get_gt(2, len(predicted_eng))\n",
    "gt_guj = get_gt(3, len(predicted_guj))\n",
    "gt_hin = get_gt(4, len(predicted_hin))\n",
    "gt_kan = get_gt(5, len(predicted_kan))\n",
    "gt_mal = get_gt(6, len(predicted_mal))\n",
    "gt_mar = get_gt(7, len(predicted_mar))\n",
    "gt_odi = get_gt(8, len(predicted_odi))\n",
    "gt_pun = get_gt(9, len(predicted_pun))\n",
    "gt_tam = get_gt(10, len(predicted_tam))\n",
    "gt_tel = get_gt(11, len(predicted_tel))"
   ]
  },
  {
   "cell_type": "code",
   "execution_count": 137,
   "id": "63820391-dd94-4f1a-9b89-3baf6dde0f16",
   "metadata": {},
   "outputs": [],
   "source": [
    "predicted = predicted_asm + predicted_ben + predicted_eng + predicted_guj + predicted_hin + predicted_kan + predicted_mal + predicted_mar + predicted_odi + predicted_pun + predicted_tam + predicted_tel\n",
    "gt = gt_asm + gt_ben + gt_eng + gt_guj + gt_hin + gt_kan + gt_mal + gt_mar + gt_odi + gt_pun + gt_tam + gt_tel"
   ]
  },
  {
   "cell_type": "code",
   "execution_count": 141,
   "id": "130f9b53-12ed-484c-b73a-bfb82cc085ca",
   "metadata": {},
   "outputs": [
    {
     "name": "stdout",
     "output_type": "stream",
     "text": [
      "[[245   3  15   0   7   1   3   7  69   0   6   3]\n",
      " [ 16 143   0   1   2   0   7   0   8   0   0   2]\n",
      " [ 11   0  98   0   3   0   3   0   0   0   0   1]\n",
      " [  0   0   0 152   0   0   0   7   1   2   3  14]\n",
      " [  9   6  12  20 106   1   0  11   0   3   2   9]\n",
      " [  8   6  11  13   2 128   1   0   8   0   5  15]\n",
      " [ 16   3   3   4   4   1 137   0  20   0   3   5]\n",
      " [ 24   0   1   0   0   0   5  68   5   0   4  10]\n",
      " [  4   2   2   3   5   0   2   1 179   0   0   1]\n",
      " [  0   0   0  48  15   0   0   0   0  60   0   1]\n",
      " [  2   5   0   0   1   1   1   0   2   0  94  19]\n",
      " [  3   1  11  31   5   1   4   4   2   1   7 124]]\n"
     ]
    }
   ],
   "source": [
    "confusion_matrix = metrics.confusion_matrix(gt, predicted, labels=list(lang_dict.keys()))\n",
    "print(confusion_matrix)"
   ]
  },
  {
   "cell_type": "markdown",
   "id": "7c4bda49-9e57-4cd8-8770-c87db02b1e28",
   "metadata": {},
   "source": [
    "#### YT Test Data"
   ]
  },
  {
   "cell_type": "code",
   "execution_count": 142,
   "id": "a1d0f251-4bce-4de5-b593-c7ca1d51b370",
   "metadata": {},
   "outputs": [],
   "source": [
    "predicted_asm = system_predict(asm_yttest)\n",
    "predicted_ben = system_predict(ben_yttest)\n",
    "predicted_eng = system_predict(eng_yttest)\n",
    "predicted_guj = system_predict(guj_yttest)\n",
    "predicted_hin = system_predict(hin_yttest)\n",
    "predicted_kan = system_predict(kan_yttest)\n",
    "predicted_mal = system_predict(mal_yttest)\n",
    "predicted_mar = system_predict(mar_yttest)\n",
    "predicted_odi = system_predict(odi_yttest)\n",
    "predicted_pun = system_predict(pun_yttest)\n",
    "predicted_tam = system_predict(tam_yttest)\n",
    "predicted_tel = system_predict(tel_yttest)"
   ]
  },
  {
   "cell_type": "code",
   "execution_count": 143,
   "id": "0aab29f7-f16b-48b6-bc87-1f18b0844511",
   "metadata": {},
   "outputs": [],
   "source": [
    "gt_asm = get_gt(0, len(predicted_asm))\n",
    "gt_ben = get_gt(1, len(predicted_ben))\n",
    "gt_eng = get_gt(2, len(predicted_eng))\n",
    "gt_guj = get_gt(3, len(predicted_guj))\n",
    "gt_hin = get_gt(4, len(predicted_hin))\n",
    "gt_kan = get_gt(5, len(predicted_kan))\n",
    "gt_mal = get_gt(6, len(predicted_mal))\n",
    "gt_mar = get_gt(7, len(predicted_mar))\n",
    "gt_odi = get_gt(8, len(predicted_odi))\n",
    "gt_pun = get_gt(9, len(predicted_pun))\n",
    "gt_tam = get_gt(10, len(predicted_tam))\n",
    "gt_tel = get_gt(11, len(predicted_tel))"
   ]
  },
  {
   "cell_type": "code",
   "execution_count": 144,
   "id": "1ae413bf-8575-4f9e-b05a-127ab4fb2721",
   "metadata": {},
   "outputs": [],
   "source": [
    "predicted = predicted_asm + predicted_ben + predicted_eng + predicted_guj + predicted_hin + predicted_kan + predicted_mal + predicted_mar + predicted_odi + predicted_pun + predicted_tam + predicted_tel\n",
    "gt = gt_asm + gt_ben + gt_eng + gt_guj + gt_hin + gt_kan + gt_mal + gt_mar + gt_odi + gt_pun + gt_tam + gt_tel"
   ]
  },
  {
   "cell_type": "code",
   "execution_count": 145,
   "id": "89b498bd-92f1-4413-b708-8532d66e598d",
   "metadata": {},
   "outputs": [
    {
     "name": "stdout",
     "output_type": "stream",
     "text": [
      "[[  9  27  19   0   0   1  36   0  79   0   5   4]\n",
      " [  0  14  42   0   2   1  47  15  36   0   0  23]\n",
      " [  5  43  12   0   0   3  38   0  19   0   0   6]\n",
      " [  0   1  15   0   6   3 113   7   5   0   9  22]\n",
      " [  6  13   0   1   2  10  81   0  42   0   0  26]\n",
      " [ 12  32  27   0   4   4  34  18  43   1   0   6]\n",
      " [  0  55   4  10   6   3  19  24  24   3  20  12]\n",
      " [  0  22   0   0   0   0  54   6  31   0   0   6]\n",
      " [  0  28  20   0   0   0  16  43  59   0   0  14]\n",
      " [  0   1   0   0   0   0  27  14  75   0   0   4]\n",
      " [  0  16   4  20   0   0  21   0  33  17   5   1]\n",
      " [  1  36   2  18   4   2  42  22  30   0  10  11]]\n"
     ]
    }
   ],
   "source": [
    "confusion_matrix = metrics.confusion_matrix(gt, predicted, labels=list(lang_dict.keys()))\n",
    "print(confusion_matrix)"
   ]
  },
  {
   "cell_type": "code",
   "execution_count": null,
   "id": "398fa721-884b-42ff-994d-d88b6bc6c01d",
   "metadata": {},
   "outputs": [],
   "source": []
  }
 ],
 "metadata": {
  "kernelspec": {
   "display_name": "Python 3 (ipykernel)",
   "language": "python",
   "name": "python3"
  },
  "language_info": {
   "codemirror_mode": {
    "name": "ipython",
    "version": 3
   },
   "file_extension": ".py",
   "mimetype": "text/x-python",
   "name": "python",
   "nbconvert_exporter": "python",
   "pygments_lexer": "ipython3",
   "version": "3.9.12"
  }
 },
 "nbformat": 4,
 "nbformat_minor": 5
}
