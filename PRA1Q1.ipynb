{
  "nbformat": 4,
  "nbformat_minor": 0,
  "metadata": {
    "colab": {
      "provenance": [],
      "collapsed_sections": [
        "McKChMSeWl2X"
      ],
      "authorship_tag": "ABX9TyNL75aHBZf9FtsxQAqy6GV7",
      "include_colab_link": true
    },
    "kernelspec": {
      "name": "python3",
      "display_name": "Python 3"
    },
    "language_info": {
      "name": "python"
    }
  },
  "cells": [
    {
      "cell_type": "markdown",
      "metadata": {
        "id": "view-in-github",
        "colab_type": "text"
      },
      "source": [
        "<a href=\"https://colab.research.google.com/github/its-rajesh/Pattern-Recognition/blob/main/PRA1Q1.ipynb\" target=\"_parent\"><img src=\"https://colab.research.google.com/assets/colab-badge.svg\" alt=\"Open In Colab\"/></a>"
      ]
    },
    {
      "cell_type": "markdown",
      "source": [
        "# **Speech Activity Detection**"
      ],
      "metadata": {
        "id": "KXrDMMLDWeiT"
      }
    },
    {
      "cell_type": "markdown",
      "source": [
        "### Imports"
      ],
      "metadata": {
        "id": "McKChMSeWl2X"
      }
    },
    {
      "cell_type": "code",
      "source": [
        "import numpy as np\n",
        "from matplotlib import pyplot as plt\n",
        "import os\n",
        "import pandas as pd"
      ],
      "metadata": {
        "id": "SI4B1BE5WZiI"
      },
      "execution_count": null,
      "outputs": []
    },
    {
      "cell_type": "code",
      "execution_count": null,
      "metadata": {
        "colab": {
          "base_uri": "https://localhost:8080/"
        },
        "id": "Wh7FY8LFWWNN",
        "outputId": "5e3d909e-e832-48a1-9145-4989c0cda3c7"
      },
      "outputs": [
        {
          "output_type": "stream",
          "name": "stdout",
          "text": [
            "Mounted at /drive\n"
          ]
        }
      ],
      "source": [
        "from google.colab import drive\n",
        "drive.mount('/drive')"
      ]
    },
    {
      "cell_type": "markdown",
      "source": [
        "### Reading files"
      ],
      "metadata": {
        "id": "w9Yn3B5wXmNo"
      }
    },
    {
      "cell_type": "code",
      "source": [
        "path = '/drive/My Drive/Pattern Recognition/Assignment1/assign1_data/q1/'\n",
        "files = os.listdir(path)\n",
        "files"
      ],
      "metadata": {
        "id": "em6tDvwfXeP_",
        "colab": {
          "base_uri": "https://localhost:8080/"
        },
        "outputId": "792d8074-d43f-49aa-9212-a2715bca6081"
      },
      "execution_count": 13,
      "outputs": [
        {
          "output_type": "execute_result",
          "data": {
            "text/plain": [
              "['Segment3_cafe_noise1.wav',\n",
              " 'Segment3_VAD_GT.csv',\n",
              " 'Segment2_STEnergy.csv',\n",
              " 'Segment3_MelEnergy.csv',\n",
              " 'Segment3_STEnergy.csv',\n",
              " 'Segment2_MelEnergy.csv',\n",
              " 'Segment2_cafe_noise2.wav',\n",
              " 'Segment2_VAD_GT.csv']"
            ]
          },
          "metadata": {},
          "execution_count": 13
        }
      ]
    },
    {
      "cell_type": "code",
      "source": [
        "train_ste = pd.read_csv(path+'Segment2_STEnergy.csv')\n",
        "train_mel = pd.read_csv(path+'Segment2_MelEnergy.csv')\n",
        "train_gt = pd.read_csv(path+'Segment2_VAD_GT.csv')\n",
        "\n",
        "train_ste.shape, train_mel.shape, train_gt.shape"
      ],
      "metadata": {
        "colab": {
          "base_uri": "https://localhost:8080/"
        },
        "id": "tGMrGsWHhutP",
        "outputId": "f001c1d6-28b9-44d7-9c3f-b735a869e4ef"
      },
      "execution_count": 16,
      "outputs": [
        {
          "output_type": "execute_result",
          "data": {
            "text/plain": [
              "((255, 1), (255, 1), (255, 1))"
            ]
          },
          "metadata": {},
          "execution_count": 16
        }
      ]
    },
    {
      "cell_type": "code",
      "source": [
        "test_ste = pd.read_csv(path+'Segment3_STEnergy.csv')\n",
        "test_mel = pd.read_csv(path+'Segment3_MelEnergy.csv')\n",
        "test_gt = pd.read_csv(path+'Segment3_VAD_GT.csv')\n",
        "\n",
        "test_ste.shape, test_mel.shape, test_gt.shape"
      ],
      "metadata": {
        "colab": {
          "base_uri": "https://localhost:8080/"
        },
        "id": "jV4CBQzDh64B",
        "outputId": "0c483f6e-9064-4e48-ab55-9525f31041f6"
      },
      "execution_count": 17,
      "outputs": [
        {
          "output_type": "execute_result",
          "data": {
            "text/plain": [
              "((274, 1), (274, 1), (274, 1))"
            ]
          },
          "metadata": {},
          "execution_count": 17
        }
      ]
    },
    {
      "cell_type": "code",
      "source": [],
      "metadata": {
        "id": "Y-ItiPiUjb5x"
      },
      "execution_count": null,
      "outputs": []
    }
  ]
}