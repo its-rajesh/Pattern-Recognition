{
  "cells": [
    {
      "cell_type": "markdown",
      "id": "06675620-9a57-4488-b7d0-cdb7f01c78cf",
      "metadata": {
        "id": "06675620-9a57-4488-b7d0-cdb7f01c78cf"
      },
      "source": [
        "# Gaussian Mixture Model (EM Algo) for Language Classification"
      ]
    },
    {
      "cell_type": "markdown",
      "id": "6dc263ac-c3d8-4d98-8931-dcdebe48e622",
      "metadata": {
        "tags": [],
        "id": "6dc263ac-c3d8-4d98-8931-dcdebe48e622"
      },
      "source": [
        "### Imports"
      ]
    },
    {
      "cell_type": "code",
      "execution_count": 1,
      "id": "615355e7-d380-4356-8e4e-71c48966a64b",
      "metadata": {
        "id": "615355e7-d380-4356-8e4e-71c48966a64b"
      },
      "outputs": [],
      "source": [
        "from sklearn.mixture import GaussianMixture as GM\n",
        "from sklearn import metrics\n",
        "import matplotlib.pyplot as plt"
      ]
    },
    {
      "cell_type": "code",
      "source": [
        "from sklearn.metrics import confusion_matrix, ConfusionMatrixDisplay\n",
        "from sklearn.metrics import accuracy_score, recall_score, precision_score, f1_score"
      ],
      "metadata": {
        "id": "st9_8OT21Zd1"
      },
      "id": "st9_8OT21Zd1",
      "execution_count": 75,
      "outputs": []
    },
    {
      "cell_type": "code",
      "execution_count": 2,
      "id": "dee0b8c8-84c9-475f-a2d0-216b13b3caea",
      "metadata": {
        "id": "dee0b8c8-84c9-475f-a2d0-216b13b3caea"
      },
      "outputs": [],
      "source": [
        "import os\n",
        "import numpy as np\n",
        "import pandas as pd"
      ]
    },
    {
      "cell_type": "code",
      "source": [
        "from google.colab import drive\n",
        "drive.mount('/drive')"
      ],
      "metadata": {
        "colab": {
          "base_uri": "https://localhost:8080/"
        },
        "id": "6xX4mtZsz8Vg",
        "outputId": "2d811212-3a0b-4491-d44a-fd15999c41b4"
      },
      "id": "6xX4mtZsz8Vg",
      "execution_count": 3,
      "outputs": [
        {
          "output_type": "stream",
          "name": "stdout",
          "text": [
            "Mounted at /drive\n"
          ]
        }
      ]
    },
    {
      "cell_type": "code",
      "source": [
        "path = '/drive/My Drive/Pattern Recognition/Assignment2/CSV Files/'"
      ],
      "metadata": {
        "id": "L71M5UJfz-oi"
      },
      "id": "L71M5UJfz-oi",
      "execution_count": 4,
      "outputs": []
    },
    {
      "cell_type": "code",
      "execution_count": 5,
      "id": "a9661035-cb55-4568-b473-74b4754b03b6",
      "metadata": {
        "id": "a9661035-cb55-4568-b473-74b4754b03b6"
      },
      "outputs": [],
      "source": [
        "#path = 'C:\\\\Users\\\\Bhuvan Kumar\\\\Desktop\\\\Pattern Recognition\\\\CSV Files\\\\'"
      ]
    },
    {
      "cell_type": "code",
      "execution_count": 6,
      "id": "7e180d16-ed1e-4c26-980a-737058c2855e",
      "metadata": {
        "id": "7e180d16-ed1e-4c26-980a-737058c2855e"
      },
      "outputs": [],
      "source": [
        "lang_dict = {0:'Assam', 1:'Bengali', 2:'English', 3:'Gujarati', 4:'Hindi', \n",
        "             5:'Kannada', 6:'Malayalam', 7:'Marati', 8:'Odissa', 9:'Punjabi', 10:'Tamil', 11:'Telugu'}"
      ]
    },
    {
      "cell_type": "code",
      "execution_count": 7,
      "id": "78ca4eb9-041a-441d-a211-c257dfab6a8b",
      "metadata": {
        "colab": {
          "base_uri": "https://localhost:8080/"
        },
        "id": "78ca4eb9-041a-441d-a211-c257dfab6a8b",
        "outputId": "661708ed-3625-4a63-88f5-0e74a01924f6"
      },
      "outputs": [
        {
          "output_type": "stream",
          "name": "stdout",
          "text": [
            "['asm', 'ben', 'eng', 'guj', 'hin', 'kan', 'mal', 'mar', 'odi', 'pun', 'tam', 'tel']\n"
          ]
        }
      ],
      "source": [
        "languages = sorted(os.listdir(path))\n",
        "print(languages)\n",
        "languages_path = [path+i for i in languages]"
      ]
    },
    {
      "cell_type": "markdown",
      "id": "f758efa8-7320-407e-b8ab-97dca51db603",
      "metadata": {
        "jp-MarkdownHeadingCollapsed": true,
        "tags": [],
        "id": "f758efa8-7320-407e-b8ab-97dca51db603"
      },
      "source": [
        "### Data Processing (Reading data language wise)"
      ]
    },
    {
      "cell_type": "code",
      "execution_count": 8,
      "id": "ba8d0bb3-8cd3-48b6-965e-54097cea9900",
      "metadata": {
        "id": "ba8d0bb3-8cd3-48b6-965e-54097cea9900"
      },
      "outputs": [],
      "source": [
        "def read_data(path):\n",
        "    subpath = [path+'/PB_train/', path+'/PB_test/', path+'/YT_test/'] \n",
        "    data = []\n",
        "    for p in subpath:\n",
        "        temp = []\n",
        "        for files in os.listdir(p):\n",
        "            df = pd.read_csv(p+files, delimiter=',', header=None, encoding='utf-16')\n",
        "            temp.append(np.array(df))\n",
        "        data.append(temp)\n",
        "\n",
        "    return data[0], data[1], data[2]"
      ]
    },
    {
      "cell_type": "code",
      "execution_count": 9,
      "id": "b6e75596-b23f-49fe-bd02-ee835c6b0b67",
      "metadata": {
        "id": "b6e75596-b23f-49fe-bd02-ee835c6b0b67"
      },
      "outputs": [],
      "source": [
        "def concat(data):\n",
        "    concat_data = np.empty([0,39])\n",
        "    for i in data:\n",
        "        n = np.array(i)\n",
        "        concat_data = np.concatenate((concat_data,n),axis=0)\n",
        "    return concat_data"
      ]
    },
    {
      "cell_type": "markdown",
      "id": "69d8e62f-aefe-4e01-8e9c-0eb35e9e116d",
      "metadata": {
        "tags": [],
        "id": "69d8e62f-aefe-4e01-8e9c-0eb35e9e116d"
      },
      "source": [
        "### Getting data for all classes"
      ]
    },
    {
      "cell_type": "code",
      "execution_count": 10,
      "id": "4d38a478-f257-419c-ae62-cecdb3be632c",
      "metadata": {
        "id": "4d38a478-f257-419c-ae62-cecdb3be632c"
      },
      "outputs": [],
      "source": [
        "asm_train, asm_pbtest, asm_yttest = read_data(languages_path[0])\n",
        "asm_train = concat(asm_train)"
      ]
    },
    {
      "cell_type": "code",
      "execution_count": 11,
      "id": "701f4bde-ec7e-428c-a7a2-140086dbd1b5",
      "metadata": {
        "id": "701f4bde-ec7e-428c-a7a2-140086dbd1b5"
      },
      "outputs": [],
      "source": [
        "ben_train, ben_pbtest, ben_yttest = read_data(languages_path[1])\n",
        "ben_train = concat(ben_train)"
      ]
    },
    {
      "cell_type": "code",
      "execution_count": 12,
      "id": "21d01ab1-a20d-493d-91be-40771c5108a3",
      "metadata": {
        "id": "21d01ab1-a20d-493d-91be-40771c5108a3"
      },
      "outputs": [],
      "source": [
        "eng_train, eng_pbtest, eng_yttest = read_data(languages_path[2])\n",
        "eng_train = concat(eng_train)"
      ]
    },
    {
      "cell_type": "code",
      "execution_count": 13,
      "id": "defbdeda-ac41-42c5-b296-001c9927ed54",
      "metadata": {
        "id": "defbdeda-ac41-42c5-b296-001c9927ed54"
      },
      "outputs": [],
      "source": [
        "guj_train, guj_pbtest, guj_yttest = read_data(languages_path[3])\n",
        "guj_train = concat(guj_train)"
      ]
    },
    {
      "cell_type": "code",
      "execution_count": 14,
      "id": "d8fd5646-2239-43a3-b0c0-b0b7ca1741f2",
      "metadata": {
        "id": "d8fd5646-2239-43a3-b0c0-b0b7ca1741f2"
      },
      "outputs": [],
      "source": [
        "hin_train, hin_pbtest, hin_yttest = read_data(languages_path[4])\n",
        "hin_train = concat(hin_train)"
      ]
    },
    {
      "cell_type": "code",
      "execution_count": 15,
      "id": "852681a7-9dbc-4717-85df-c22e91762d2d",
      "metadata": {
        "id": "852681a7-9dbc-4717-85df-c22e91762d2d"
      },
      "outputs": [],
      "source": [
        "kan_train, kan_pbtest, kan_yttest = read_data(languages_path[5])\n",
        "kan_train = concat(kan_train)"
      ]
    },
    {
      "cell_type": "code",
      "execution_count": 16,
      "id": "4b480f31-ffed-437f-a421-e8c5bdd57b50",
      "metadata": {
        "id": "4b480f31-ffed-437f-a421-e8c5bdd57b50"
      },
      "outputs": [],
      "source": [
        "mal_train, mal_pbtest, mal_yttest = read_data(languages_path[6])\n",
        "mal_train = concat(mal_train)"
      ]
    },
    {
      "cell_type": "code",
      "execution_count": 17,
      "id": "fc53df5f-bc37-485d-98d3-232a5b0645d3",
      "metadata": {
        "id": "fc53df5f-bc37-485d-98d3-232a5b0645d3"
      },
      "outputs": [],
      "source": [
        "mar_train, mar_pbtest, mar_yttest = read_data(languages_path[7])\n",
        "mar_train = concat(mar_train)"
      ]
    },
    {
      "cell_type": "code",
      "execution_count": 18,
      "id": "fc5e3cc5-af0a-4592-a63b-5e8e3892b8af",
      "metadata": {
        "id": "fc5e3cc5-af0a-4592-a63b-5e8e3892b8af"
      },
      "outputs": [],
      "source": [
        "odi_train, odi_pbtest, odi_yttest = read_data(languages_path[8])\n",
        "odi_train = concat(odi_train)"
      ]
    },
    {
      "cell_type": "code",
      "execution_count": 19,
      "id": "ce2e81bf-c672-46f6-8048-30c6077d7b24",
      "metadata": {
        "id": "ce2e81bf-c672-46f6-8048-30c6077d7b24"
      },
      "outputs": [],
      "source": [
        "pun_train, pun_pbtest, pun_yttest = read_data(languages_path[9])\n",
        "pun_train = concat(pun_train)"
      ]
    },
    {
      "cell_type": "code",
      "execution_count": 20,
      "id": "742a45d8-4108-4d7e-abc8-ccc03c148925",
      "metadata": {
        "id": "742a45d8-4108-4d7e-abc8-ccc03c148925"
      },
      "outputs": [],
      "source": [
        "tam_train, tam_pbtest, tam_yttest = read_data(languages_path[10])\n",
        "tam_train = concat(tam_train)"
      ]
    },
    {
      "cell_type": "code",
      "execution_count": 21,
      "id": "714eb432-790f-4549-8ef2-7e922439b0bb",
      "metadata": {
        "id": "714eb432-790f-4549-8ef2-7e922439b0bb"
      },
      "outputs": [],
      "source": [
        "tel_train, tel_pbtest, tel_yttest = read_data(languages_path[11])\n",
        "tel_train = concat(tel_train)"
      ]
    },
    {
      "cell_type": "markdown",
      "id": "11abf46b-891e-4223-9a85-3d0320572dde",
      "metadata": {
        "jp-MarkdownHeadingCollapsed": true,
        "tags": [],
        "id": "11abf46b-891e-4223-9a85-3d0320572dde"
      },
      "source": [
        "### Building GMM Classifier"
      ]
    },
    {
      "cell_type": "markdown",
      "id": "0e7d186c-3cef-4861-9ee0-ec40c16dbad6",
      "metadata": {
        "id": "0e7d186c-3cef-4861-9ee0-ec40c16dbad6"
      },
      "source": [
        "#### Class1: Assam"
      ]
    },
    {
      "cell_type": "code",
      "execution_count": 208,
      "id": "d8772249-4bad-4c06-8398-9f457f1f6730",
      "metadata": {
        "colab": {
          "base_uri": "https://localhost:8080/"
        },
        "id": "d8772249-4bad-4c06-8398-9f457f1f6730",
        "outputId": "35fe57ac-ed0c-4616-cf06-6491a22541cf"
      },
      "outputs": [
        {
          "output_type": "stream",
          "name": "stdout",
          "text": [
            "WEIGHTS: [0.07947382 0.08194926 0.08389896 0.10910708 0.08467416 0.10902225\n",
            " 0.06939871 0.06961254 0.07944955 0.07783587 0.08970068 0.06587712]\n"
          ]
        }
      ],
      "source": [
        "asm = GM(n_components=12, init_params='kmeans', covariance_type='full')\n",
        "asm.fit(asm_train)\n",
        "print('WEIGHTS:', asm.weights_)\n",
        "#print('MEAN:', asm.means_)\n",
        "#print('COVARIANCE:', asm.covariances_)"
      ]
    },
    {
      "cell_type": "markdown",
      "id": "88cc4f15-d482-4843-b8ac-53f3e458ac32",
      "metadata": {
        "id": "88cc4f15-d482-4843-b8ac-53f3e458ac32"
      },
      "source": [
        "#### Class2: Bengali"
      ]
    },
    {
      "cell_type": "code",
      "execution_count": 209,
      "id": "1b4a4134-fa7d-4e8b-ae2f-decbac87dbb3",
      "metadata": {
        "colab": {
          "base_uri": "https://localhost:8080/"
        },
        "id": "1b4a4134-fa7d-4e8b-ae2f-decbac87dbb3",
        "outputId": "60915397-14d5-4795-dd40-1968c9663d34"
      },
      "outputs": [
        {
          "output_type": "stream",
          "name": "stdout",
          "text": [
            "WEIGHTS: [0.09250376 0.12736621 0.07635834 0.06869961 0.08913037 0.03691337\n",
            " 0.10879805 0.05346554 0.10639164 0.09520631 0.03004541 0.1151214 ]\n"
          ]
        }
      ],
      "source": [
        "ben = GM(n_components=12, init_params='kmeans', covariance_type='full')\n",
        "ben.fit(ben_train)\n",
        "print('WEIGHTS:', ben.weights_)"
      ]
    },
    {
      "cell_type": "markdown",
      "id": "379ab204-4f2a-43d3-bb84-520008c63c64",
      "metadata": {
        "id": "379ab204-4f2a-43d3-bb84-520008c63c64"
      },
      "source": [
        "#### Class3: English"
      ]
    },
    {
      "cell_type": "code",
      "execution_count": 210,
      "id": "4fa63acf-efc8-48e2-8bcd-d3c0318b697a",
      "metadata": {
        "colab": {
          "base_uri": "https://localhost:8080/"
        },
        "id": "4fa63acf-efc8-48e2-8bcd-d3c0318b697a",
        "outputId": "ee200024-4e50-4050-8321-8e3e7942c987"
      },
      "outputs": [
        {
          "output_type": "stream",
          "name": "stdout",
          "text": [
            "WEIGHTS: [0.10390911 0.06160622 0.095181   0.06864277 0.08126711 0.09585949\n",
            " 0.0906453  0.08647289 0.07783252 0.07272631 0.08520578 0.0806515 ]\n"
          ]
        }
      ],
      "source": [
        "eng = GM(n_components=12, init_params='kmeans', covariance_type='full')\n",
        "eng.fit(eng_train)\n",
        "print('WEIGHTS:', eng.weights_)"
      ]
    },
    {
      "cell_type": "markdown",
      "id": "51d1f3c0-24ba-40d7-bb6b-d58a42e5caa3",
      "metadata": {
        "id": "51d1f3c0-24ba-40d7-bb6b-d58a42e5caa3"
      },
      "source": [
        "#### Class4: Gujarati"
      ]
    },
    {
      "cell_type": "code",
      "execution_count": 211,
      "id": "27ec4687-d809-450e-95ca-fc21187524ef",
      "metadata": {
        "colab": {
          "base_uri": "https://localhost:8080/"
        },
        "id": "27ec4687-d809-450e-95ca-fc21187524ef",
        "outputId": "5840f536-ba16-42b1-d263-7058d398b7a6"
      },
      "outputs": [
        {
          "output_type": "stream",
          "name": "stdout",
          "text": [
            "WEIGHTS: [0.038429   0.10972772 0.0971687  0.07240231 0.07997038 0.07786617\n",
            " 0.07588217 0.08878999 0.09180218 0.07635571 0.10297926 0.08862639]\n"
          ]
        }
      ],
      "source": [
        "guj = GM(n_components=12, init_params='kmeans', covariance_type='full')\n",
        "guj.fit(guj_train)\n",
        "print('WEIGHTS:', guj.weights_)"
      ]
    },
    {
      "cell_type": "markdown",
      "id": "61c99940-75ca-44ff-9df5-a6a6a93f46a8",
      "metadata": {
        "id": "61c99940-75ca-44ff-9df5-a6a6a93f46a8"
      },
      "source": [
        "#### Class5: Hindi"
      ]
    },
    {
      "cell_type": "code",
      "execution_count": 212,
      "id": "a345662d-f154-44dd-a091-167e0a173975",
      "metadata": {
        "colab": {
          "base_uri": "https://localhost:8080/"
        },
        "id": "a345662d-f154-44dd-a091-167e0a173975",
        "outputId": "0f55201f-72b0-4963-8d68-666297c5c82e"
      },
      "outputs": [
        {
          "output_type": "stream",
          "name": "stdout",
          "text": [
            "WEIGHTS: [0.10723334 0.09141498 0.08450324 0.09646809 0.0562122  0.06307234\n",
            " 0.08671384 0.06601491 0.09957837 0.08947723 0.07910471 0.08020674]\n"
          ]
        }
      ],
      "source": [
        "hin = GM(n_components=12, init_params='kmeans', covariance_type='full')\n",
        "hin.fit(hin_train)\n",
        "print('WEIGHTS:', hin.weights_)"
      ]
    },
    {
      "cell_type": "markdown",
      "id": "4bb61952-fa86-4465-b21d-039542b7d84e",
      "metadata": {
        "id": "4bb61952-fa86-4465-b21d-039542b7d84e"
      },
      "source": [
        "#### Class6: Kannada"
      ]
    },
    {
      "cell_type": "code",
      "execution_count": 213,
      "id": "1d644373-e279-4eee-9a8d-4e5169e698a1",
      "metadata": {
        "colab": {
          "base_uri": "https://localhost:8080/"
        },
        "id": "1d644373-e279-4eee-9a8d-4e5169e698a1",
        "outputId": "68d29fd5-1afc-4c08-d120-83ac045791a7"
      },
      "outputs": [
        {
          "output_type": "stream",
          "name": "stdout",
          "text": [
            "WEIGHTS: [0.15553844 0.08553102 0.08171997 0.05084015 0.05131892 0.08745036\n",
            " 0.11987886 0.05844786 0.08303837 0.11280874 0.0863376  0.0270897 ]\n"
          ]
        }
      ],
      "source": [
        "kan = GM(n_components=12, init_params='kmeans', covariance_type='full')\n",
        "kan.fit(kan_train)\n",
        "print('WEIGHTS:', kan.weights_)"
      ]
    },
    {
      "cell_type": "markdown",
      "id": "94a09033-4412-4801-879f-7c8171d812ed",
      "metadata": {
        "id": "94a09033-4412-4801-879f-7c8171d812ed"
      },
      "source": [
        "#### Class7: Malayalam"
      ]
    },
    {
      "cell_type": "code",
      "execution_count": 214,
      "id": "77428826-3976-4ca9-8980-2ff298b8dfef",
      "metadata": {
        "colab": {
          "base_uri": "https://localhost:8080/"
        },
        "id": "77428826-3976-4ca9-8980-2ff298b8dfef",
        "outputId": "9b95a24f-1389-48a3-9f9c-5b046efca353"
      },
      "outputs": [
        {
          "output_type": "stream",
          "name": "stdout",
          "text": [
            "WEIGHTS: [0.07512388 0.09985694 0.03265787 0.12749486 0.05067566 0.08702518\n",
            " 0.07835784 0.09990276 0.07174312 0.10077214 0.08612269 0.09026706]\n"
          ]
        }
      ],
      "source": [
        "mal = GM(n_components=12, init_params='kmeans', covariance_type='full')\n",
        "mal.fit(mal_train)\n",
        "print('WEIGHTS:', mal.weights_)"
      ]
    },
    {
      "cell_type": "markdown",
      "id": "cafe82ca-560c-4a80-8589-5bb15400e3d8",
      "metadata": {
        "id": "cafe82ca-560c-4a80-8589-5bb15400e3d8"
      },
      "source": [
        "#### Class8: Marathi"
      ]
    },
    {
      "cell_type": "code",
      "execution_count": 215,
      "id": "41c115cb-aa76-4de7-8703-5c78cf4beac1",
      "metadata": {
        "colab": {
          "base_uri": "https://localhost:8080/"
        },
        "id": "41c115cb-aa76-4de7-8703-5c78cf4beac1",
        "outputId": "62f31498-8376-410a-9153-689b67791c3b"
      },
      "outputs": [
        {
          "output_type": "stream",
          "name": "stdout",
          "text": [
            "WEIGHTS: [0.18297984 0.0715462  0.10314282 0.07114897 0.07328608 0.06151104\n",
            " 0.10683944 0.03391769 0.02430053 0.09906471 0.08197    0.09029268]\n"
          ]
        }
      ],
      "source": [
        "mar = GM(n_components=12, init_params='kmeans', covariance_type='full')\n",
        "mar.fit(mar_train)\n",
        "print('WEIGHTS:', mar.weights_)"
      ]
    },
    {
      "cell_type": "markdown",
      "id": "744787a1-575e-472d-baaf-8b4c95940512",
      "metadata": {
        "id": "744787a1-575e-472d-baaf-8b4c95940512"
      },
      "source": [
        "#### Class9: Odissa"
      ]
    },
    {
      "cell_type": "code",
      "execution_count": 216,
      "id": "a05494f9-67aa-4178-be7c-c032cd79dea9",
      "metadata": {
        "colab": {
          "base_uri": "https://localhost:8080/"
        },
        "id": "a05494f9-67aa-4178-be7c-c032cd79dea9",
        "outputId": "849b866b-67e4-45f5-cc81-f4dc385c2071"
      },
      "outputs": [
        {
          "output_type": "stream",
          "name": "stdout",
          "text": [
            "WEIGHTS: [0.10320044 0.09853245 0.10506154 0.05910344 0.02440562 0.08319204\n",
            " 0.08622404 0.06518311 0.08057845 0.0808471  0.1051169  0.10855488]\n"
          ]
        }
      ],
      "source": [
        "odi = GM(n_components=12, init_params='kmeans', covariance_type='full')\n",
        "odi.fit(odi_train)\n",
        "print('WEIGHTS:', odi.weights_)"
      ]
    },
    {
      "cell_type": "markdown",
      "id": "0f1432b7-78ed-4ce8-9257-89c948e5a1a8",
      "metadata": {
        "id": "0f1432b7-78ed-4ce8-9257-89c948e5a1a8"
      },
      "source": [
        "#### Class10: Punjabi"
      ]
    },
    {
      "cell_type": "code",
      "execution_count": 217,
      "id": "996061e8-15aa-44ee-aaf5-3e344b2bfc02",
      "metadata": {
        "colab": {
          "base_uri": "https://localhost:8080/"
        },
        "id": "996061e8-15aa-44ee-aaf5-3e344b2bfc02",
        "outputId": "7d127ce7-3067-433c-aa85-e2a3c60182f0"
      },
      "outputs": [
        {
          "output_type": "stream",
          "name": "stdout",
          "text": [
            "WEIGHTS: [0.0715382  0.10288044 0.10150828 0.09530779 0.06351933 0.06604605\n",
            " 0.10325616 0.06571726 0.07661268 0.08837226 0.09311643 0.07212513]\n"
          ]
        }
      ],
      "source": [
        "pun = GM(n_components=12, init_params='kmeans', covariance_type='full')\n",
        "pun.fit(pun_train)\n",
        "print('WEIGHTS:', pun.weights_)"
      ]
    },
    {
      "cell_type": "markdown",
      "id": "05f70b25-7321-4f01-812e-2ad66cb52de0",
      "metadata": {
        "id": "05f70b25-7321-4f01-812e-2ad66cb52de0"
      },
      "source": [
        "#### Class11: Tamil"
      ]
    },
    {
      "cell_type": "code",
      "execution_count": 218,
      "id": "64e59dbc-6130-4845-b037-42edf9e0b46e",
      "metadata": {
        "colab": {
          "base_uri": "https://localhost:8080/"
        },
        "id": "64e59dbc-6130-4845-b037-42edf9e0b46e",
        "outputId": "b96efaa3-44df-4eee-dfd5-31dc64c987a9"
      },
      "outputs": [
        {
          "output_type": "stream",
          "name": "stdout",
          "text": [
            "WEIGHTS: [0.09331522 0.08656663 0.10779413 0.07680832 0.11136966 0.07554378\n",
            " 0.0539761  0.05207388 0.05634932 0.07802552 0.14518962 0.06298781]\n"
          ]
        }
      ],
      "source": [
        "tam = GM(n_components=12, init_params='kmeans', covariance_type='full')\n",
        "tam.fit(tam_train)\n",
        "print('WEIGHTS:', tam.weights_)"
      ]
    },
    {
      "cell_type": "markdown",
      "id": "f11818de-2399-4a68-afaa-f0721649d0d7",
      "metadata": {
        "id": "f11818de-2399-4a68-afaa-f0721649d0d7"
      },
      "source": [
        "#### Class12: Telugu"
      ]
    },
    {
      "cell_type": "code",
      "execution_count": 219,
      "id": "bb21bee1-6bea-406d-a6b8-4fad85f8956b",
      "metadata": {
        "colab": {
          "base_uri": "https://localhost:8080/"
        },
        "id": "bb21bee1-6bea-406d-a6b8-4fad85f8956b",
        "outputId": "f74884dc-9161-4c76-e6d2-78b2437aab5e"
      },
      "outputs": [
        {
          "output_type": "stream",
          "name": "stdout",
          "text": [
            "WEIGHTS: [0.06305417 0.06736379 0.07138165 0.09715523 0.06724938 0.08296591\n",
            " 0.10383799 0.1031936  0.08255899 0.0480365  0.11499366 0.09820912]\n"
          ]
        }
      ],
      "source": [
        "tel = GM(n_components=12, init_params='kmeans', covariance_type='full')\n",
        "tel.fit(tel_train)\n",
        "print('WEIGHTS:', tel.weights_)"
      ]
    },
    {
      "cell_type": "markdown",
      "id": "38aa9b7d-0c2b-4af6-b5c4-32ec23087f22",
      "metadata": {
        "id": "38aa9b7d-0c2b-4af6-b5c4-32ec23087f22"
      },
      "source": [
        "### Testing"
      ]
    },
    {
      "cell_type": "code",
      "execution_count": 220,
      "id": "4802e6f4-5c56-46c2-99d7-24878d47146e",
      "metadata": {
        "id": "4802e6f4-5c56-46c2-99d7-24878d47146e"
      },
      "outputs": [],
      "source": [
        "def detect(val):\n",
        "    lang_dict = {0:'Assam', 1:'Bengali', 2:'English', 3:'Gujarati', 4:'Hindi', \n",
        "             5:'Kannada', 6:'Malayalam', 7:'Marati', 8:'Odissa', 9:'Punjabi', 10:'Tamil', 11:'Telugu'}\n",
        "    return lang_dict[val]"
      ]
    },
    {
      "cell_type": "code",
      "execution_count": 221,
      "id": "aaf8c55b-f8f0-4304-9a82-9daaf39eff83",
      "metadata": {
        "id": "aaf8c55b-f8f0-4304-9a82-9daaf39eff83"
      },
      "outputs": [],
      "source": [
        "def get_scores(lang, test):\n",
        "    return np.mean(lang.score_samples(test))"
      ]
    },
    {
      "cell_type": "code",
      "execution_count": 222,
      "id": "fd3a0ff0-7cd1-4f80-9a55-05deeed294df",
      "metadata": {
        "id": "fd3a0ff0-7cd1-4f80-9a55-05deeed294df"
      },
      "outputs": [],
      "source": [
        "def get_gt(c, n):\n",
        "    return [c for i in range(n)]"
      ]
    },
    {
      "cell_type": "code",
      "execution_count": 223,
      "id": "7f3bc795-a67d-465f-a99c-5832b2482158",
      "metadata": {
        "id": "7f3bc795-a67d-465f-a99c-5832b2482158"
      },
      "outputs": [],
      "source": [
        "def system_predict(dataset):\n",
        "    res = []\n",
        "    for i in dataset:\n",
        "        lh = [get_scores(asm, i), get_scores(ben, i), get_scores(eng, i),\n",
        "             get_scores(guj, i), get_scores(hin, i), get_scores(kan, i),\n",
        "             get_scores(mal, i), get_scores(mar, i), get_scores(odi, i),\n",
        "             get_scores(pun, i), get_scores(tam, i), get_scores(tel, i)]\n",
        "\n",
        "        res.append(np.argmax(lh))\n",
        "\n",
        "    #gt = np.zeros(len(res))\n",
        "    #print('Most language detected as: ', detect(res[0]))\n",
        "    return res"
      ]
    },
    {
      "cell_type": "markdown",
      "id": "a677a9db-30e4-4826-8aa5-d8ab7c64cf6c",
      "metadata": {
        "id": "a677a9db-30e4-4826-8aa5-d8ab7c64cf6c"
      },
      "source": [
        "#### PB Test Data"
      ]
    },
    {
      "cell_type": "code",
      "execution_count": 224,
      "id": "71301e64-ba41-44dd-b59a-8dfc70e48995",
      "metadata": {
        "id": "71301e64-ba41-44dd-b59a-8dfc70e48995"
      },
      "outputs": [],
      "source": [
        "predicted_asm = system_predict(asm_pbtest)\n",
        "predicted_ben = system_predict(ben_pbtest)\n",
        "predicted_eng = system_predict(eng_pbtest)\n",
        "predicted_guj = system_predict(guj_pbtest)\n",
        "predicted_hin = system_predict(hin_pbtest)\n",
        "predicted_kan = system_predict(kan_pbtest)\n",
        "predicted_mal = system_predict(mal_pbtest)\n",
        "predicted_mar = system_predict(mar_pbtest)\n",
        "predicted_odi = system_predict(odi_pbtest)\n",
        "predicted_pun = system_predict(pun_pbtest)\n",
        "predicted_tam = system_predict(tam_pbtest)\n",
        "predicted_tel = system_predict(tel_pbtest)"
      ]
    },
    {
      "cell_type": "code",
      "execution_count": 225,
      "id": "fc941eeb-497c-4177-a3e7-34d17292e8fc",
      "metadata": {
        "id": "fc941eeb-497c-4177-a3e7-34d17292e8fc"
      },
      "outputs": [],
      "source": [
        "gt_asm = get_gt(0, len(predicted_asm))\n",
        "gt_ben = get_gt(1, len(predicted_ben))\n",
        "gt_eng = get_gt(2, len(predicted_eng))\n",
        "gt_guj = get_gt(3, len(predicted_guj))\n",
        "gt_hin = get_gt(4, len(predicted_hin))\n",
        "gt_kan = get_gt(5, len(predicted_kan))\n",
        "gt_mal = get_gt(6, len(predicted_mal))\n",
        "gt_mar = get_gt(7, len(predicted_mar))\n",
        "gt_odi = get_gt(8, len(predicted_odi))\n",
        "gt_pun = get_gt(9, len(predicted_pun))\n",
        "gt_tam = get_gt(10, len(predicted_tam))\n",
        "gt_tel = get_gt(11, len(predicted_tel))"
      ]
    },
    {
      "cell_type": "code",
      "execution_count": 226,
      "id": "63820391-dd94-4f1a-9b89-3baf6dde0f16",
      "metadata": {
        "id": "63820391-dd94-4f1a-9b89-3baf6dde0f16"
      },
      "outputs": [],
      "source": [
        "predicted = predicted_asm + predicted_ben + predicted_eng + predicted_guj + predicted_hin + predicted_kan + predicted_mal + predicted_mar + predicted_odi + predicted_pun + predicted_tam + predicted_tel\n",
        "gt = gt_asm + gt_ben + gt_eng + gt_guj + gt_hin + gt_kan + gt_mal + gt_mar + gt_odi + gt_pun + gt_tam + gt_tel"
      ]
    },
    {
      "cell_type": "code",
      "execution_count": 227,
      "id": "130f9b53-12ed-484c-b73a-bfb82cc085ca",
      "metadata": {
        "colab": {
          "base_uri": "https://localhost:8080/"
        },
        "id": "130f9b53-12ed-484c-b73a-bfb82cc085ca",
        "outputId": "565ea40e-7e78-4ac0-9e7a-fee8a302ba17"
      },
      "outputs": [
        {
          "output_type": "stream",
          "name": "stdout",
          "text": [
            "[[329   0   7   0   0   0   1   0  13   0   6   3]\n",
            " [  5 169   0   0   2   0   0   0   3   0   0   0]\n",
            " [  3   0 105   0   3   1   0   0   4   0   0   0]\n",
            " [  1   0   0 175   0   0   0   0   0   0   1   2]\n",
            " [  2   2   8   2 156   0   1   4   0   2   0   2]\n",
            " [  3   1   9   4   0 170   0   0   7   0   1   2]\n",
            " [  9   1   4   2   2   0 165   0  11   0   0   2]\n",
            " [ 18   0   0   0   2   0   5  90   0   0   0   2]\n",
            " [  1   2   2   0   2   0   2   1 187   0   0   2]\n",
            " [  0   0   0  59   5   0   0   0   0  60   0   0]\n",
            " [  0   3   0  17   0   1   0   0   5   0  97   2]\n",
            " [  2   1   1   2   2   0   3   0   3   0   1 179]]\n"
          ]
        }
      ],
      "source": [
        "confusion_matrix = metrics.confusion_matrix(gt, predicted, labels=list(lang_dict.keys()))\n",
        "print(confusion_matrix)"
      ]
    },
    {
      "cell_type": "code",
      "source": [
        "disp = ConfusionMatrixDisplay(confusion_matrix=confusion_matrix, display_labels=list(lang_dict.keys()))\n",
        "disp.plot()\n",
        "plt.show()"
      ],
      "metadata": {
        "colab": {
          "base_uri": "https://localhost:8080/",
          "height": 279
        },
        "id": "GVEFfDD81KuF",
        "outputId": "72924af0-292c-4674-d44e-46c67fddcc73"
      },
      "id": "GVEFfDD81KuF",
      "execution_count": 228,
      "outputs": [
        {
          "output_type": "display_data",
          "data": {
            "text/plain": [
              "<Figure size 432x288 with 2 Axes>"
            ],
            "image/png": "[encoded data removed]"
          },
          "metadata": {
            "needs_background": "light"
          }
        }
      ]
    },
    {
      "cell_type": "code",
      "source": [
        "f1 = f1_score(gt, predicted, average='weighted')\n",
        "precision = precision_score(gt, predicted, average='weighted')\n",
        "recall = recall_score(gt, predicted, average='weighted')\n",
        "accuracy = accuracy_score(gt, predicted)\n",
        "\n",
        "print('Accuracy: ', accuracy)\n",
        "print('Recall: ', recall)\n",
        "print('Precision: ', precision)\n",
        "print('F1 Score: ', f1)"
      ],
      "metadata": {
        "colab": {
          "base_uri": "https://localhost:8080/"
        },
        "id": "XeV7j4c045yz",
        "outputId": "5c0da8aa-83a9-475a-b4aa-ca3555c1cb05"
      },
      "id": "XeV7j4c045yz",
      "execution_count": 229,
      "outputs": [
        {
          "output_type": "stream",
          "name": "stdout",
          "text": [
            "Accuracy:  0.8696857670979667\n",
            "Recall:  0.8696857670979667\n",
            "Precision:  0.8850499972075281\n",
            "F1 Score:  0.8681031374893899\n"
          ]
        }
      ]
    },
    {
      "cell_type": "markdown",
      "id": "7c4bda49-9e57-4cd8-8770-c87db02b1e28",
      "metadata": {
        "id": "7c4bda49-9e57-4cd8-8770-c87db02b1e28"
      },
      "source": [
        "#### YT Test Data"
      ]
    },
    {
      "cell_type": "code",
      "execution_count": 230,
      "id": "a1d0f251-4bce-4de5-b593-c7ca1d51b370",
      "metadata": {
        "id": "a1d0f251-4bce-4de5-b593-c7ca1d51b370"
      },
      "outputs": [],
      "source": [
        "predicted_asm = system_predict(asm_yttest)\n",
        "predicted_ben = system_predict(ben_yttest)\n",
        "predicted_eng = system_predict(eng_yttest)\n",
        "predicted_guj = system_predict(guj_yttest)\n",
        "predicted_hin = system_predict(hin_yttest)\n",
        "predicted_kan = system_predict(kan_yttest)\n",
        "predicted_mal = system_predict(mal_yttest)\n",
        "predicted_mar = system_predict(mar_yttest)\n",
        "predicted_odi = system_predict(odi_yttest)\n",
        "predicted_pun = system_predict(pun_yttest)\n",
        "predicted_tam = system_predict(tam_yttest)\n",
        "predicted_tel = system_predict(tel_yttest)"
      ]
    },
    {
      "cell_type": "code",
      "execution_count": 231,
      "id": "0aab29f7-f16b-48b6-bc87-1f18b0844511",
      "metadata": {
        "id": "0aab29f7-f16b-48b6-bc87-1f18b0844511"
      },
      "outputs": [],
      "source": [
        "gt_asm = get_gt(0, len(predicted_asm))\n",
        "gt_ben = get_gt(1, len(predicted_ben))\n",
        "gt_eng = get_gt(2, len(predicted_eng))\n",
        "gt_guj = get_gt(3, len(predicted_guj))\n",
        "gt_hin = get_gt(4, len(predicted_hin))\n",
        "gt_kan = get_gt(5, len(predicted_kan))\n",
        "gt_mal = get_gt(6, len(predicted_mal))\n",
        "gt_mar = get_gt(7, len(predicted_mar))\n",
        "gt_odi = get_gt(8, len(predicted_odi))\n",
        "gt_pun = get_gt(9, len(predicted_pun))\n",
        "gt_tam = get_gt(10, len(predicted_tam))\n",
        "gt_tel = get_gt(11, len(predicted_tel))"
      ]
    },
    {
      "cell_type": "code",
      "execution_count": 232,
      "id": "1ae413bf-8575-4f9e-b05a-127ab4fb2721",
      "metadata": {
        "id": "1ae413bf-8575-4f9e-b05a-127ab4fb2721"
      },
      "outputs": [],
      "source": [
        "predicted = predicted_asm + predicted_ben + predicted_eng + predicted_guj + predicted_hin + predicted_kan + predicted_mal + predicted_mar + predicted_odi + predicted_pun + predicted_tam + predicted_tel\n",
        "gt = gt_asm + gt_ben + gt_eng + gt_guj + gt_hin + gt_kan + gt_mal + gt_mar + gt_odi + gt_pun + gt_tam + gt_tel"
      ]
    },
    {
      "cell_type": "code",
      "execution_count": 233,
      "id": "89b498bd-92f1-4413-b708-8532d66e598d",
      "metadata": {
        "colab": {
          "base_uri": "https://localhost:8080/"
        },
        "id": "89b498bd-92f1-4413-b708-8532d66e598d",
        "outputId": "21027544-0448-4d45-880e-6e47c1f7e903"
      },
      "outputs": [
        {
          "output_type": "stream",
          "name": "stdout",
          "text": [
            "[[18 15 19  0  0  3 30  0 90  0  0  5]\n",
            " [ 3 12 40  0  0 16 36 15 42  0  0 16]\n",
            " [ 4  3 15  0  0 35 26  0 37  0  0  6]\n",
            " [ 0  0 23  0 17 17 69 17 20  0  6 12]\n",
            " [ 2  8  1  0  0 24 54  0 72  0  0 20]\n",
            " [21 13 33  0  4 11 25 10 53  0  0 11]\n",
            " [ 2 52  9  8 13 17  7 19 24  3 19  7]\n",
            " [ 1  1  9  0  0  1 46  6 36  0  0 19]\n",
            " [31 25 34  0  0  0  8 29 59  0  0  4]\n",
            " [ 0  0  4  0  1  0 14 12 87  0  0  3]\n",
            " [ 0  6  2  2 26  0 15  0 40  6 17  3]\n",
            " [ 1 20  3 12  5  6 31 29 41  0 13 17]]\n"
          ]
        }
      ],
      "source": [
        "confusion_matrix = metrics.confusion_matrix(gt, predicted, labels=list(lang_dict.keys()))\n",
        "print(confusion_matrix)"
      ]
    },
    {
      "cell_type": "code",
      "execution_count": 234,
      "id": "398fa721-884b-42ff-994d-d88b6bc6c01d",
      "metadata": {
        "colab": {
          "base_uri": "https://localhost:8080/",
          "height": 283
        },
        "id": "398fa721-884b-42ff-994d-d88b6bc6c01d",
        "outputId": "034e6351-7b9e-4e41-d393-05ed3d36e547"
      },
      "outputs": [
        {
          "output_type": "display_data",
          "data": {
            "text/plain": [
              "<Figure size 432x288 with 2 Axes>"
            ],
            "image/png": "[encoded data removed]"
          },
          "metadata": {
            "needs_background": "light"
          }
        }
      ],
      "source": [
        "disp = ConfusionMatrixDisplay(confusion_matrix=confusion_matrix, display_labels=list(lang_dict.keys()))\n",
        "disp.plot()\n",
        "plt.show()"
      ]
    },
    {
      "cell_type": "code",
      "source": [
        "f1 = f1_score(gt, predicted, average='weighted')\n",
        "precision = precision_score(gt, predicted, average='weighted')\n",
        "recall = recall_score(gt, predicted, average='weighted')\n",
        "accuracy = accuracy_score(gt, predicted)\n",
        "\n",
        "print('Accuracy: ', accuracy)\n",
        "print('Recall: ', recall)\n",
        "print('Precision: ', precision)\n",
        "print('F1 Score: ', f1)"
      ],
      "metadata": {
        "colab": {
          "base_uri": "https://localhost:8080/"
        },
        "id": "VVUkfSlA2Mau",
        "outputId": "3e525e78-c286-45eb-f198-a993f800e918"
      },
      "id": "VVUkfSlA2Mau",
      "execution_count": 235,
      "outputs": [
        {
          "output_type": "stream",
          "name": "stdout",
          "text": [
            "Accuracy:  0.08376421923474664\n",
            "Recall:  0.08376421923474664\n",
            "Precision:  0.0859618693082005\n",
            "F1 Score:  0.07447735785271418\n"
          ]
        }
      ]
    }
  ],
  "metadata": {
    "kernelspec": {
      "display_name": "Python 3 (ipykernel)",
      "language": "python",
      "name": "python3"
    },
    "language_info": {
      "codemirror_mode": {
        "name": "ipython",
        "version": 3
      },
      "file_extension": ".py",
      "mimetype": "text/x-python",
      "name": "python",
      "nbconvert_exporter": "python",
      "pygments_lexer": "ipython3",
      "version": "3.9.12"
    },
    "colab": {
      "provenance": []
    }
  },
  "nbformat": 4,
  "nbformat_minor": 5
}