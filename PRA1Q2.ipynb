{
  "nbformat": 4,
  "nbformat_minor": 0,
  "metadata": {
    "colab": {
      "provenance": [],
      "authorship_tag": "ABX9TyPCcKpw8Xna5ZpeeKvGwYUj",
      "include_colab_link": true
    },
    "kernelspec": {
      "name": "python3",
      "display_name": "Python 3"
    },
    "language_info": {
      "name": "python"
    }
  },
  "cells": [
    {
      "cell_type": "markdown",
      "metadata": {
        "id": "view-in-github",
        "colab_type": "text"
      },
      "source": [
        "<a href=\"https://colab.research.google.com/github/its-rajesh/Pattern-Recognition/blob/main/PRA1Q2.ipynb\" target=\"_parent\"><img src=\"https://colab.research.google.com/assets/colab-badge.svg\" alt=\"Open In Colab\"/></a>"
      ]
    },
    {
      "cell_type": "markdown",
      "source": [
        "# **Bayes classifier for 3 class classification**\n",
        "\n",
        "Develop a Bayes classifier with Gaussian class conditional densities to\n",
        "classify two datasets, each having 3 classes. The first dataset is linearly\n",
        "separable, and the second is not. Use random 50% of data for training\n",
        "and 50% for test. \n",
        "\n",
        "Build the following classifiers C1 -C4 :\n",
        "- C1 : Covariance for all classes is Iσ2. Use the average of the sample\n",
        "variances for all dimensions, for all classes, from the training data\n",
        "as σ2\n",
        "- C2 : Full but equal covariance for all classes, Σ. Use the average\n",
        "of the sample covariance matrix from all classes in the train data\n",
        "as Σ.\n",
        "- C3 : Diagonal covariance matrix, distinct for each class. Use variances from the sample covariance matrix for each class.\n",
        "- C4 : Full covariance matrix, distinct for each class. Use the sample\n",
        "covariance matrix for each class."
      ],
      "metadata": {
        "id": "L4p1H9zBfJ68"
      }
    },
    {
      "cell_type": "code",
      "execution_count": null,
      "metadata": {
        "id": "pxILp9nse649"
      },
      "outputs": [],
      "source": []
    }
  ]
}