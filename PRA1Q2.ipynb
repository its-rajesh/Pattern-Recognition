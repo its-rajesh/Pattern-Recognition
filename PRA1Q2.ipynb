{
  "nbformat": 4,
  "nbformat_minor": 0,
  "metadata": {
    "colab": {
      "provenance": [],
      "collapsed_sections": [
        "EEk8W-kkgCq_",
        "tGA4WNrbDe4f",
        "A3IQFwGcD63a",
        "rhowzyGqjwbS",
        "RQRKt999sO5E",
        "NUTgCIvKlWJE"
      ],
      "authorship_tag": "ABX9TyOZtIb/hFuN5bLFJHjFUlno",
      "include_colab_link": true
    },
    "kernelspec": {
      "name": "python3",
      "display_name": "Python 3"
    },
    "language_info": {
      "name": "python"
    }
  },
  "cells": [
    {
      "cell_type": "markdown",
      "metadata": {
        "id": "view-in-github",
        "colab_type": "text"
      },
      "source": [
        "<a href=\"https://colab.research.google.com/github/its-rajesh/Pattern-Recognition/blob/main/PRA1Q2.ipynb\" target=\"_parent\"><img src=\"https://colab.research.google.com/assets/colab-badge.svg\" alt=\"Open In Colab\"/></a>"
      ]
    },
    {
      "cell_type": "markdown",
      "source": [
        "# **Bayes classifier for 3 class classification**\n",
        "\n",
        "Develop a Bayes classifier with Gaussian class conditional densities to\n",
        "classify two datasets, each having 3 classes. The first dataset is linearly\n",
        "separable, and the second is not. Use random 50% of data for training\n",
        "and 50% for test. \n",
        "\n",
        "Build the following classifiers C1 -C4 :\n",
        "- C1 : Covariance for all classes is Iσ2. Use the average of the sample\n",
        "variances for all dimensions, for all classes, from the training data\n",
        "as σ2\n",
        "- C2 : Full but equal covariance for all classes, Σ. Use the average\n",
        "of the sample covariance matrix from all classes in the train data\n",
        "as Σ.\n",
        "- C3 : Diagonal covariance matrix, distinct for each class. Use variances from the sample covariance matrix for each class.\n",
        "- C4 : Full covariance matrix, distinct for each class. Use the sample\n",
        "covariance matrix for each class."
      ],
      "metadata": {
        "id": "L4p1H9zBfJ68"
      }
    },
    {
      "cell_type": "markdown",
      "source": [
        "### Imports"
      ],
      "metadata": {
        "id": "EEk8W-kkgCq_"
      }
    },
    {
      "cell_type": "code",
      "execution_count": 48,
      "metadata": {
        "id": "pxILp9nse649"
      },
      "outputs": [],
      "source": [
        "import numpy as np\n",
        "from matplotlib import pyplot as plt\n",
        "import os\n",
        "import pandas as pd\n",
        "from matplotlib.colors import ListedColormap"
      ]
    },
    {
      "cell_type": "code",
      "source": [
        "from google.colab import drive\n",
        "drive.mount('/drive')"
      ],
      "metadata": {
        "colab": {
          "base_uri": "https://localhost:8080/"
        },
        "id": "RTgZhdN08sx5",
        "outputId": "37913789-59f0-4ffb-e63f-846760cb49a7"
      },
      "execution_count": 6,
      "outputs": [
        {
          "output_type": "stream",
          "name": "stdout",
          "text": [
            "Mounted at /drive\n"
          ]
        }
      ]
    },
    {
      "cell_type": "markdown",
      "source": [
        "### Reading Files"
      ],
      "metadata": {
        "id": "tGA4WNrbDe4f"
      }
    },
    {
      "cell_type": "code",
      "source": [
        "path = '/drive/My Drive/Pattern Recognition/Assignment1/assign1_data/q2/'\n",
        "files = os.listdir(path)"
      ],
      "metadata": {
        "id": "2n2D-AEdgEZB"
      },
      "execution_count": 7,
      "outputs": []
    },
    {
      "cell_type": "markdown",
      "source": [
        "*Linear Separable*"
      ],
      "metadata": {
        "id": "G8ewbAKbD-Ff"
      }
    },
    {
      "cell_type": "code",
      "source": [
        "linearClass1 = pd.read_csv(path+'l_class1.txt', header=None)\n",
        "linearClass2 = pd.read_csv(path+'l_class2.txt', header=None)\n",
        "linearClass3 = pd.read_csv(path+'l_class3.txt', header = None)\n",
        "\n",
        "linearClass1.shape, linearClass2.shape, linearClass3.shape"
      ],
      "metadata": {
        "colab": {
          "base_uri": "https://localhost:8080/"
        },
        "id": "UnW7Gq0FDeVV",
        "outputId": "36ffc37d-58aa-46fc-c777-06d23da2bb78"
      },
      "execution_count": 8,
      "outputs": [
        {
          "output_type": "execute_result",
          "data": {
            "text/plain": [
              "((500, 1), (500, 1), (500, 1))"
            ]
          },
          "metadata": {},
          "execution_count": 8
        }
      ]
    },
    {
      "cell_type": "markdown",
      "source": [
        "Non Linear Separable"
      ],
      "metadata": {
        "id": "R6Bl9hoHEBuk"
      }
    },
    {
      "cell_type": "code",
      "source": [
        "NonlinearClass1 = pd.read_csv(path+'nl_class1.txt', header=None)\n",
        "NonlinearClass2 = pd.read_csv(path+'nl_class2.txt', header=None)\n",
        "NonlinearClass3 = pd.read_csv(path+'nl_class3.txt', header = None)\n",
        "\n",
        "NonlinearClass1.shape, NonlinearClass2.shape, NonlinearClass3.shape"
      ],
      "metadata": {
        "colab": {
          "base_uri": "https://localhost:8080/"
        },
        "id": "7XcKbPcM8uwk",
        "outputId": "7ca0c3f5-868a-4391-fe39-8c95ee619873"
      },
      "execution_count": 9,
      "outputs": [
        {
          "output_type": "execute_result",
          "data": {
            "text/plain": [
              "((500, 1), (500, 1), (500, 1))"
            ]
          },
          "metadata": {},
          "execution_count": 9
        }
      ]
    },
    {
      "cell_type": "markdown",
      "source": [
        "### Data Processing\n",
        "\n",
        "Split data into x, y coordinates and test, training separated."
      ],
      "metadata": {
        "id": "A3IQFwGcD63a"
      }
    },
    {
      "cell_type": "code",
      "source": [
        "def extractXY(data):\n",
        "  try:\n",
        "    x, y = data.split(' ')\n",
        "  except:\n",
        "    x, y, z = data.split(' ')\n",
        "  return float(x), float(y)"
      ],
      "metadata": {
        "id": "CWnpnfrS-1We"
      },
      "execution_count": 10,
      "outputs": []
    },
    {
      "cell_type": "code",
      "source": [
        "def get_data(data):\n",
        "  xlist, ylist = [], []\n",
        "  for i in data:\n",
        "    x, y = extractXY(i)\n",
        "    xlist.append(x)\n",
        "    ylist.append(y)\n",
        "  return xlist, ylist"
      ],
      "metadata": {
        "id": "AgHyo7gu9pkg"
      },
      "execution_count": 11,
      "outputs": []
    },
    {
      "cell_type": "markdown",
      "source": [
        "*Linear Separable*"
      ],
      "metadata": {
        "id": "ORE1N1RREYtm"
      }
    },
    {
      "cell_type": "code",
      "source": [
        "linearClass1x, linearClass1y = get_data(linearClass1[0])\n",
        "linearClass2x, linearClass2y = get_data(linearClass2[0])\n",
        "linearClass3x, linearClass3y = get_data(linearClass3[0])"
      ],
      "metadata": {
        "id": "N6kc2uwR9xkV"
      },
      "execution_count": 12,
      "outputs": []
    },
    {
      "cell_type": "code",
      "source": [
        "train_lC1x, test_lc1x = linearClass1x[:len(linearClass1x)//2], linearClass1x[len(linearClass1x)//2:]\n",
        "train_lC1y, test_lc1y = linearClass1y[:len(linearClass1y)//2], linearClass1y[len(linearClass1y)//2:]\n",
        "\n",
        "train_lC2x, test_lc2x = linearClass2x[:len(linearClass2x)//2], linearClass2x[len(linearClass2x)//2:]\n",
        "train_lC2y, test_lc2y = linearClass2y[:len(linearClass2y)//2], linearClass2y[len(linearClass2y)//2:]\n",
        "\n",
        "train_lC3x, test_lc3x = linearClass3x[:len(linearClass3x)//2], linearClass3x[len(linearClass3x)//2:]\n",
        "train_lC3y, test_lc3y = linearClass3y[:len(linearClass3y)//2], linearClass3y[len(linearClass3y)//2:]"
      ],
      "metadata": {
        "id": "9QpBXIkO-Kzw"
      },
      "execution_count": 13,
      "outputs": []
    },
    {
      "cell_type": "markdown",
      "source": [
        "*Non Linear Separable*"
      ],
      "metadata": {
        "id": "LgQ_XW2JEb72"
      }
    },
    {
      "cell_type": "code",
      "source": [
        "NonlinearClass1x, NonlinearClass1y = get_data(NonlinearClass1[0])\n",
        "NonlinearClass2x, NonlinearClass2y = get_data(NonlinearClass2[0])\n",
        "NonlinearClass3x, NonlinearClass3y = get_data(NonlinearClass3[0])"
      ],
      "metadata": {
        "id": "EcJnWD8-DZ2L"
      },
      "execution_count": 14,
      "outputs": []
    },
    {
      "cell_type": "code",
      "source": [
        "train_nlC1x, test_nlc1x = NonlinearClass1x[:len(NonlinearClass1x)//2], NonlinearClass1x[len(NonlinearClass1x)//2:]\n",
        "train_nlC1y, test_nlc1y = NonlinearClass1y[:len(NonlinearClass1y)//2], NonlinearClass1y[len(NonlinearClass1y)//2:]\n",
        "\n",
        "train_nlC2x, test_nlc2x = NonlinearClass2x[:len(NonlinearClass2x)//2], NonlinearClass2x[len(NonlinearClass2x)//2:]\n",
        "train_nlC2y, test_nlc2y = NonlinearClass2y[:len(NonlinearClass2y)//2], NonlinearClass2y[len(NonlinearClass2y)//2:]\n",
        "\n",
        "train_nlC3x, test_nlc3x = NonlinearClass3x[:len(NonlinearClass3x)//2], NonlinearClass3x[len(NonlinearClass3x)//2:]\n",
        "train_nlC3y, test_nlc3y = NonlinearClass3y[:len(NonlinearClass3y)//2], NonlinearClass3y[len(NonlinearClass3y)//2:]"
      ],
      "metadata": {
        "id": "e9h5oyQgElIh"
      },
      "execution_count": 15,
      "outputs": []
    },
    {
      "cell_type": "markdown",
      "source": [
        "*Generating Ground truth*"
      ],
      "metadata": {
        "id": "vD5ZXmfgzYtD"
      }
    },
    {
      "cell_type": "code",
      "source": [
        "test_datalx = np.concatenate([test_lc1x, test_lc2x,test_lc3x])\n",
        "test_dataly = np.concatenate([test_lc1y, test_lc2y,test_lc3y])\n",
        "\n",
        "Gtl1, Gtl2, Gtl3 = np.full(len(test_lc1x), 1), np.full(len(test_lc2x), 2), np.full(len(test_lc3x), 3)\n",
        "Gtl = np.concatenate([Gtl1, Gtl2, Gtl3])"
      ],
      "metadata": {
        "id": "t03hHO7syzsf"
      },
      "execution_count": 16,
      "outputs": []
    },
    {
      "cell_type": "code",
      "source": [
        "test_datanlx = np.concatenate([test_nlc1x, test_nlc2x,test_nlc3x])\n",
        "test_datanly = np.concatenate([test_nlc1y, test_nlc2y,test_nlc3y])\n",
        "\n",
        "Gtnl1, Gtnl2, Gtnl3 = np.full(len(test_nlc1x), 1), np.full(len(test_nlc2x), 2), np.full(len(test_nlc3x), 3)\n",
        "Gtnl = np.concatenate([Gtl1, Gtl2, Gtl3])"
      ],
      "metadata": {
        "id": "Bdn5OgVtzrsz"
      },
      "execution_count": 17,
      "outputs": []
    },
    {
      "cell_type": "markdown",
      "source": [
        "*Calc min and max value for decision plots*"
      ],
      "metadata": {
        "id": "DQH_SrvkP2R1"
      }
    },
    {
      "cell_type": "code",
      "source": [
        "lminx = np.min([np.min(train_lC1x), np.min(train_lC2x), np.min(train_lC3x)])\n",
        "lmaxx = np.max([np.max(train_lC1x), np.max(train_lC2x), np.max(train_lC3x)])\n",
        "\n",
        "lminy = np.min([np.min(train_lC1y), np.min(train_lC2y), np.min(train_lC3y)])\n",
        "lmaxy = np.max([np.max(train_lC1y), np.max(train_lC2y), np.max(train_lC3y)])\n",
        "\n",
        "(lminx, lmaxx) , (lminy, lmaxy)"
      ],
      "metadata": {
        "colab": {
          "base_uri": "https://localhost:8080/"
        },
        "id": "R8xO80mHP8bE",
        "outputId": "f3b4e477-ad09-46e8-f78a-02c0edd61447"
      },
      "execution_count": 44,
      "outputs": [
        {
          "output_type": "execute_result",
          "data": {
            "text/plain": [
              "((-8.5974, 21.89), (-14.585, 16.859))"
            ]
          },
          "metadata": {},
          "execution_count": 44
        }
      ]
    },
    {
      "cell_type": "code",
      "source": [
        "f = 3 #margin addition factor\n",
        "dvlx, dvly = [], []\n",
        "for i in range(int(lminx)-f, int(lmaxx)+f):\n",
        "  for j in range(int(lminy)-f, int(lmaxy)+f):\n",
        "    dvlx.append(i)\n",
        "    dvly.append(j)"
      ],
      "metadata": {
        "id": "XcnatXxDQ5-E"
      },
      "execution_count": 46,
      "outputs": []
    },
    {
      "cell_type": "code",
      "source": [
        "nlminx = np.min([np.min(train_nlC1x), np.min(train_nlC2x), np.min(train_nlC3x)])\n",
        "nlmaxx = np.max([np.max(train_nlC1x), np.max(train_nlC2x), np.max(train_nlC3x)])\n",
        "\n",
        "nlminy = np.min([np.min(train_nlC1y), np.min(train_nlC2y), np.min(train_nlC3y)])\n",
        "nlmaxy = np.max([np.max(train_nlC1y), np.max(train_nlC2y), np.max(train_nlC3y)])\n",
        "\n",
        "(nlminx, nlmaxx) , (nlminy, nlmaxy)"
      ],
      "metadata": {
        "colab": {
          "base_uri": "https://localhost:8080/"
        },
        "id": "uTfRnElzQecR",
        "outputId": "c64d0fad-1ba5-4a9f-ceea-bbdf8af0f0a1"
      },
      "execution_count": 45,
      "outputs": [
        {
          "output_type": "execute_result",
          "data": {
            "text/plain": [
              "((-1.986585, 4.451719), (-1.472881, 1.197661))"
            ]
          },
          "metadata": {},
          "execution_count": 45
        }
      ]
    },
    {
      "cell_type": "code",
      "source": [
        "f = 3 #margin addition factor\n",
        "dvnlx, dvnly = [], []\n",
        "for i in range(int(nlminx)-f, int(nlmaxx)+f):\n",
        "  for j in range(int(nlminy)-f, int(nlmaxy)+f):\n",
        "    dvnlx.append(i)\n",
        "    dvnly.append(j)"
      ],
      "metadata": {
        "id": "TX7xzO81RRuP"
      },
      "execution_count": 47,
      "outputs": []
    },
    {
      "cell_type": "markdown",
      "source": [
        "### Visualization of Inputs"
      ],
      "metadata": {
        "id": "rhowzyGqjwbS"
      }
    },
    {
      "cell_type": "markdown",
      "source": [
        "*Linear Separable*"
      ],
      "metadata": {
        "id": "BqScXhn0j5X-"
      }
    },
    {
      "cell_type": "code",
      "source": [
        "plt.scatter(train_lC1x, train_lC1y)\n",
        "plt.scatter(train_lC2x, train_lC2y)\n",
        "plt.scatter(train_lC3x, train_lC3y)\n",
        "plt.title('Linear Training Dataset')\n",
        "plt.legend(['Class1', 'Class2', 'Class3'])\n",
        "plt.show()"
      ],
      "metadata": {
        "colab": {
          "base_uri": "https://localhost:8080/",
          "height": 281
        },
        "id": "sDWAwVSwElFo",
        "outputId": "27d2660d-49e7-4ffb-ec2a-ac31d7cce2fa"
      },
      "execution_count": 18,
      "outputs": [
        {
          "output_type": "display_data",
          "data": {
            "text/plain": [
              "<Figure size 432x288 with 1 Axes>"
            ],
            "image/png": "[encoded data removed]"
          },
          "metadata": {
            "needs_background": "light"
          }
        }
      ]
    },
    {
      "cell_type": "markdown",
      "source": [
        "*Non Linear Separable*"
      ],
      "metadata": {
        "id": "uXJMcxgVj8RP"
      }
    },
    {
      "cell_type": "code",
      "source": [
        "plt.scatter(train_nlC1x, train_nlC1y)\n",
        "plt.scatter(train_nlC2x, train_nlC2y)\n",
        "plt.scatter(train_nlC3x, train_nlC3y)\n",
        "plt.title('Non Linear Training Dataset')\n",
        "plt.legend(['Class1', 'Class2', 'Class3'])\n",
        "plt.show()"
      ],
      "metadata": {
        "colab": {
          "base_uri": "https://localhost:8080/",
          "height": 281
        },
        "id": "zCbUwyYbEkOo",
        "outputId": "de2d6a3b-cd60-497a-836c-4ab50d1d2f90"
      },
      "execution_count": 19,
      "outputs": [
        {
          "output_type": "display_data",
          "data": {
            "text/plain": [
              "<Figure size 432x288 with 1 Axes>"
            ],
            "image/png": "[encoded data removed]"
          },
          "metadata": {
            "needs_background": "light"
          }
        }
      ]
    },
    {
      "cell_type": "markdown",
      "source": [
        "### Mulitvariate Normal Density"
      ],
      "metadata": {
        "id": "RQRKt999sO5E"
      }
    },
    {
      "cell_type": "code",
      "source": [
        "def multivariateDensity(x, mu, cov):\n",
        "  icov = np.linalg.inv(cov)\n",
        "  num = np.exp(-0.5*np.dot((x-mu), np.dot(icov, (x-mu).T)))\n",
        "  den = 2*np.pi*np.sqrt(np.linalg.det(cov))\n",
        "  return num/den"
      ],
      "metadata": {
        "id": "c-Ff5MndoGBg"
      },
      "execution_count": 20,
      "outputs": []
    },
    {
      "cell_type": "markdown",
      "source": [
        "### Confusion Matrix, Accuracy, Precision, Recall, and F1score"
      ],
      "metadata": {
        "id": "mUvAya9L87be"
      }
    },
    {
      "cell_type": "code",
      "source": [
        "def confusion_matrix(y, ypred):\n",
        "  c11, c12, c13, c21, c22, c23, c31, c32, c33 = 0, 0, 0, 0, 0, 0, 0, 0, 0\n",
        "  for i in range(len(ypred)):\n",
        "    if ypred[i] == 1 and y[i] == 1:\n",
        "      c11 += 1\n",
        "    elif ypred[i] == 2 and y[i] == 1:\n",
        "      c12 += 1\n",
        "    elif ypred[i] == 3 and y[i] == 1:\n",
        "      c13 += 1\n",
        "    elif ypred[i] == 2 and y[i] == 1:\n",
        "      c21 += 1\n",
        "    elif ypred[i] == 2 and y[i] == 2:\n",
        "      c22 += 1\n",
        "    elif ypred[i] == 2 and y[i] == 3:\n",
        "      c23 += 1\n",
        "    elif ypred[i] == 3 and y[i] == 1:\n",
        "      c31 += 1\n",
        "    elif ypred[i] == 3 and y[i] == 2:\n",
        "      c32 += 1\n",
        "    elif ypred[i] == 3 and y[i] == 3:\n",
        "      c33 += 1\n",
        "\n",
        "  return [[c11, c12, c13], [c21, c22, c23], [c31, c32, c33]]"
      ],
      "metadata": {
        "id": "xxOEt1SZ86-F"
      },
      "execution_count": 21,
      "outputs": []
    },
    {
      "cell_type": "code",
      "source": [
        "def accuracy(cm):\n",
        "  c11, c22, c33 = cm[0][0], cm[1][1], cm[2][2]\n",
        "  return (c11+c22+c33)/750"
      ],
      "metadata": {
        "id": "ryf_MnjKLWc-"
      },
      "execution_count": 22,
      "outputs": []
    },
    {
      "cell_type": "code",
      "source": [
        "def precision(cm):\n",
        "  p1 = cm[0][0] / (cm[0][0]+(cm[0][1] + cm[0][2]))\n",
        "  p2 = cm[1][1] / (cm[1][1]+(cm[1][0] + cm[1][2]))\n",
        "  p3 = cm[2][2] / (cm[2][2]+(cm[2][0] + cm[2][1]))\n",
        "  return (p1+p2+p3)/3"
      ],
      "metadata": {
        "id": "SWyk6oevM_jj"
      },
      "execution_count": 39,
      "outputs": []
    },
    {
      "cell_type": "code",
      "source": [
        "def recall(cm):\n",
        "  r1 = cm[0][0] / (cm[0][0]+(cm[1][0] + cm[2][0]))\n",
        "  r2 = cm[1][1] / (cm[1][1]+(cm[0][1] + cm[2][1]))\n",
        "  r3 = cm[2][2] / (cm[2][2]+(cm[0][2] + cm[1][2]))\n",
        "  return (r1+r2+r3)/3"
      ],
      "metadata": {
        "id": "4KM6rYwoLWBY"
      },
      "execution_count": 40,
      "outputs": []
    },
    {
      "cell_type": "code",
      "source": [
        "def Fmeasure(cm):\n",
        "  p1 = cm[0][0] / (cm[0][0]+(cm[0][1] + cm[0][2]))\n",
        "  p2 = cm[1][1] / (cm[1][1]+(cm[1][0] + cm[1][2]))\n",
        "  p3 = cm[2][2] / (cm[2][2]+(cm[2][0] + cm[2][1]))\n",
        "  r1 = cm[0][0] / (cm[0][0]+(cm[1][0] + cm[2][0]))\n",
        "  r2 = cm[1][1] / (cm[1][1]+(cm[0][1] + cm[2][1]))\n",
        "  r3 = cm[2][2] / (cm[2][2]+(cm[0][2] + cm[1][2]))\n",
        "  fm1 = 2*p1*r1/(p1+r1)\n",
        "  fm2 = 2*p2*r2/(p2+r2)\n",
        "  fm3 = 2*p3*r3/(p3+r3)\n",
        "  return (fm1+fm2+fm3)/3"
      ],
      "metadata": {
        "id": "UlIeL8pBMRzd"
      },
      "execution_count": 41,
      "outputs": []
    },
    {
      "cell_type": "markdown",
      "source": [
        "# Bayes Classifier for Linear Separable Dataset"
      ],
      "metadata": {
        "id": "2y2IDu4ak0OK"
      }
    },
    {
      "cell_type": "markdown",
      "source": [
        "### Prior, Mean, Vairance and Covariance"
      ],
      "metadata": {
        "id": "NUTgCIvKlWJE"
      }
    },
    {
      "cell_type": "code",
      "source": [
        "priorlC1=len(train_lC1x)/(len(train_lC1x)+len(train_lC2x)+len(train_lC3x))\n",
        "priorlC2=len(train_lC2x)/(len(train_lC1x)+len(train_lC2x)+len(train_lC3x))\n",
        "priorlC3=len(train_lC3x)/(len(train_lC1x)+len(train_lC2x)+len(train_lC3x))"
      ],
      "metadata": {
        "id": "nbIqVTedkrKV"
      },
      "execution_count": 66,
      "outputs": []
    },
    {
      "cell_type": "code",
      "source": [
        "meanlc1 = np.array([np.mean(train_lC1x), np.mean(train_lC1y)])\n",
        "meanlc2 = np.array([np.mean(train_lC2x), np.mean(train_lC2y)])\n",
        "meanlc3 = np.array([np.mean(train_lC3x), np.mean(train_lC3y)])"
      ],
      "metadata": {
        "id": "eqtC_w3KmRti"
      },
      "execution_count": 67,
      "outputs": []
    },
    {
      "cell_type": "code",
      "source": [
        "varlc1 = np.array([np.var(train_lC1x), np.var(train_lC1y)])\n",
        "varlc2 = np.array([np.var(train_lC2x), np.var(train_lC2y)])\n",
        "varlc3 = np.array([np.var(train_lC3x), np.var(train_lC3y)])"
      ],
      "metadata": {
        "id": "GIWDZ6s2xSPh"
      },
      "execution_count": 68,
      "outputs": []
    },
    {
      "cell_type": "code",
      "source": [
        "covlc1 = np.cov([train_lC1x, train_lC1y])\n",
        "covlc2 = np.cov([train_lC2x, train_lC2y])\n",
        "covlc3 = np.cov([train_lC3x, train_lC3y])"
      ],
      "metadata": {
        "id": "1wTa833WnLqq"
      },
      "execution_count": 69,
      "outputs": []
    },
    {
      "cell_type": "markdown",
      "source": [
        "### Classifier 1\n",
        "\n",
        "*Covariance for all classes is Iσ2. Use the average of the sample\n",
        "variances for all dimensions, for all classes, from the training data\n",
        "as σ2*"
      ],
      "metadata": {
        "id": "en5YOT1bw5Un"
      }
    },
    {
      "cell_type": "code",
      "source": [
        "AvgVarl = (varlc1+varlc2+varlc3)/3\n",
        "classifier1_cov = np.identity(2)*AvgVarl"
      ],
      "metadata": {
        "id": "4OgHa8X4vB4d"
      },
      "execution_count": 30,
      "outputs": []
    },
    {
      "cell_type": "code",
      "source": [
        "def classifier1(x, y, mu, cov, prior):\n",
        "  mu1, mu2, mu3 = mu\n",
        "  prior1, prior2, prior3 = prior \n",
        "  classifier1_pred = []\n",
        "  for i in range(len(x)):\n",
        "    xi = [x[i], y[i]]\n",
        "    lh1 = multivariateDensity(xi, mu1, cov)\n",
        "    lh2 = multivariateDensity(xi, mu2, cov)\n",
        "    lh3 = multivariateDensity(xi, mu3, cov)\n",
        "\n",
        "    posterior1 = (prior1 * lh1) / (lh1 * prior1 + lh2 * prior2 + lh3 * prior3)\n",
        "    posterior2 = (prior2 * lh2) / (lh1 * prior1 + lh2 * prior2 + lh3 * prior3)\n",
        "    posterior3 = (prior3 * lh3) / (lh1 * prior1 + lh2 * prior2 + lh3 * prior3)\n",
        "\n",
        "    posterior = np.array([posterior1, posterior2, posterior3])\n",
        "    pred = np.argmax(posterior)\n",
        "    classifier1_pred.append(pred)\n",
        "\n",
        "  return classifier1_pred"
      ],
      "metadata": {
        "id": "R1d9IusGt6SK"
      },
      "execution_count": 31,
      "outputs": []
    },
    {
      "cell_type": "code",
      "source": [
        "meanl = (meanlc1, meanlc2, meanlc3)\n",
        "priorl = (priorlC1, priorlC2, priorlC3)\n",
        "classifier1_pred = classifier1(test_datalx, test_dataly, meanl, classifier1_cov, priorl)\n",
        "classifier1_pred = [i+1 for i in classifier1_pred]"
      ],
      "metadata": {
        "id": "i0s1xchryDEJ"
      },
      "execution_count": 32,
      "outputs": []
    },
    {
      "cell_type": "code",
      "source": [
        "C1cm = confusion_matrix(classifier1_pred, Gtl)\n",
        "print('CONFUSION MATRIX\\n', C1cm)"
      ],
      "metadata": {
        "colab": {
          "base_uri": "https://localhost:8080/"
        },
        "id": "R3_DCXDN7Em6",
        "outputId": "e72d003b-6394-4c0a-b676-b92d917f5334"
      },
      "execution_count": 35,
      "outputs": [
        {
          "output_type": "stream",
          "name": "stdout",
          "text": [
            "CONFUSION MATRIX\n",
            " [[250, 0, 0], [0, 250, 0], [0, 0, 250]]\n"
          ]
        }
      ]
    },
    {
      "cell_type": "code",
      "source": [
        "C1_Accuracy = accuracy(C1cm)\n",
        "C1_precision = precision(C1cm)\n",
        "C1_recall = recall(C1cm)\n",
        "C1_Fmeasure = Fmeasure(C1cm)\n",
        "print('CLASSIFIER1 SCORES\\nAccuracy : {}\\nPrecision = {}\\nRecall = {}\\nF Measure = {}'.format(C1_Accuracy, C1_precision, C1_recall, C1_Fmeasure))"
      ],
      "metadata": {
        "colab": {
          "base_uri": "https://localhost:8080/"
        },
        "id": "K-uR-GVfKUso",
        "outputId": "7dd5ce2b-3e0f-4b8e-8867-0cb171cba9a9"
      },
      "execution_count": 43,
      "outputs": [
        {
          "output_type": "stream",
          "name": "stdout",
          "text": [
            "CLASSIFIER1 SCORES\n",
            "Accuracy : 1.0\n",
            "Precision = 1.0\n",
            "Recall = 1.0\n",
            "F Measure = 1.0\n"
          ]
        }
      ]
    },
    {
      "cell_type": "code",
      "source": [
        "markers = ('s', 'x', 'o', '^', 'v')\n",
        "colors = ('red', 'blue', 'lightgreen', 'gray', 'cyan')\n",
        "cmap = ListedColormap(colors[:len(np.unique(dvly))])\n",
        "resolution = 0.1\n",
        "\n",
        "\n",
        "xx1, xx2 = np.meshgrid(np.arange(lminx, lmaxx, resolution), np.arange(lminy, lmaxy, resolution))\n",
        "\n",
        "Z = np.array(classifier1(xx1.ravel(), xx2.ravel(), meanl, classifier1_cov, priorl))\n",
        "Z = Z.reshape(xx1.shape)\n",
        "\n",
        "plt.contourf(xx1, xx2, Z, alpha=0.3, cmap=cmap)\n",
        "plt.xlim(xx1.min(), xx1.max())\n",
        "plt.ylim(xx2.min(), xx2.max())\n",
        "\n",
        "plt.legend(['class1', 'class2', 'class3'])\n",
        "plt.scatter(train_lC1x, train_lC1y)\n",
        "plt.scatter(train_lC2x, train_lC2y)\n",
        "plt.scatter(train_lC3x, train_lC3y)\n",
        "plt.title('Decision Boundary for Classifier 1')\n",
        "plt.show()"
      ],
      "metadata": {
        "id": "TRCsgrcKKyEl",
        "colab": {
          "base_uri": "https://localhost:8080/",
          "height": 281
        },
        "outputId": "e4813460-67d1-4411-a365-93ea89e095a8"
      },
      "execution_count": 53,
      "outputs": [
        {
          "output_type": "display_data",
          "data": {
            "text/plain": [
              "<Figure size 432x288 with 1 Axes>"
            ],
            "image/png": "[encoded data removed]"
          },
          "metadata": {
            "needs_background": "light"
          }
        }
      ]
    },
    {
      "cell_type": "markdown",
      "source": [
        "### Classifier 2\n",
        "\n",
        "*Full but equal covariance for all classes, Σ. Use the average of the sample covariance matrix from all classes in the train data as Σ.*"
      ],
      "metadata": {
        "id": "MxW9Br8uS8WI"
      }
    },
    {
      "cell_type": "code",
      "source": [
        "AvgCovl = (covlc1+covlc2+covlc3)/3"
      ],
      "metadata": {
        "id": "0mMS6nNgSJRp"
      },
      "execution_count": 54,
      "outputs": []
    },
    {
      "cell_type": "code",
      "source": [
        "def classifier2(x, y, mu, cov, prior):\n",
        "  mu1, mu2, mu3 = mu\n",
        "  prior1, prior2, prior3 = prior \n",
        "  classifier2_pred = []\n",
        "  for i in range(len(x)):\n",
        "    xi = [x[i], y[i]]\n",
        "    lh1 = multivariateDensity(xi, mu1, cov)\n",
        "    lh2 = multivariateDensity(xi, mu2, cov)\n",
        "    lh3 = multivariateDensity(xi, mu3, cov)\n",
        "\n",
        "    posterior1 = (prior1 * lh1) / (lh1 * prior1 + lh2 * prior2 + lh3 * prior3)\n",
        "    posterior2 = (prior2 * lh2) / (lh1 * prior1 + lh2 * prior2 + lh3 * prior3)\n",
        "    posterior3 = (prior3 * lh3) / (lh1 * prior1 + lh2 * prior2 + lh3 * prior3)\n",
        "\n",
        "    posterior = np.array([posterior1, posterior2, posterior3])\n",
        "    pred = np.argmax(posterior)\n",
        "    classifier2_pred.append(pred)\n",
        "\n",
        "  return classifier2_pred"
      ],
      "metadata": {
        "id": "cbBLJPrPTwz1"
      },
      "execution_count": 55,
      "outputs": []
    },
    {
      "cell_type": "code",
      "source": [
        "meanl = (meanlc1, meanlc2, meanlc3)\n",
        "priorl = (priorlC1, priorlC2, priorlC3)\n",
        "classifier2_pred = classifier2(test_datalx, test_dataly, meanl, AvgCovl, priorl)\n",
        "classifier2_pred = [i+1 for i in classifier2_pred]"
      ],
      "metadata": {
        "id": "SAhRUFNMUBdd"
      },
      "execution_count": 56,
      "outputs": []
    },
    {
      "cell_type": "code",
      "source": [
        "C2cm = confusion_matrix(classifier2_pred, Gtl)\n",
        "print('CONFUSION MATRIX\\n', C2cm)"
      ],
      "metadata": {
        "colab": {
          "base_uri": "https://localhost:8080/"
        },
        "id": "-wxsdqMpUTqg",
        "outputId": "8bebee39-9bd8-45ff-d790-d2941b37296a"
      },
      "execution_count": 57,
      "outputs": [
        {
          "output_type": "stream",
          "name": "stdout",
          "text": [
            "CONFUSION MATRIX\n",
            " [[250, 0, 0], [0, 250, 0], [0, 0, 250]]\n"
          ]
        }
      ]
    },
    {
      "cell_type": "code",
      "source": [
        "C2_Accuracy = accuracy(C2cm)\n",
        "C2_precision = precision(C2cm)\n",
        "C2_recall = recall(C2cm)\n",
        "C2_Fmeasure = Fmeasure(C2cm)\n",
        "print('CLASSIFIER2 SCORES\\nAccuracy : {}\\nPrecision = {}\\nRecall = {}\\nF Measure = {}'.format(C2_Accuracy, C2_precision, C2_recall, C2_Fmeasure))"
      ],
      "metadata": {
        "colab": {
          "base_uri": "https://localhost:8080/"
        },
        "id": "ypkPxImWUaZe",
        "outputId": "decf4d93-076d-425a-c33e-7cf82b5e0c65"
      },
      "execution_count": 58,
      "outputs": [
        {
          "output_type": "stream",
          "name": "stdout",
          "text": [
            "CLASSIFIER2 SCORES\n",
            "Accuracy : 1.0\n",
            "Precision = 1.0\n",
            "Recall = 1.0\n",
            "F Measure = 1.0\n"
          ]
        }
      ]
    },
    {
      "cell_type": "code",
      "source": [
        "markers = ('s', 'x', 'o', '^', 'v')\n",
        "colors = ('red', 'blue', 'lightgreen', 'gray', 'cyan')\n",
        "cmap = ListedColormap(colors[:len(np.unique(dvly))])\n",
        "resolution = 0.1\n",
        "\n",
        "\n",
        "xx1, xx2 = np.meshgrid(np.arange(lminx, lmaxx, resolution), np.arange(lminy, lmaxy, resolution))\n",
        "\n",
        "Z = np.array(classifier2(xx1.ravel(), xx2.ravel(), meanl, AvgCovl, priorl))\n",
        "Z = Z.reshape(xx1.shape)\n",
        "\n",
        "plt.contourf(xx1, xx2, Z, alpha=0.3, cmap=cmap)\n",
        "plt.xlim(xx1.min(), xx1.max())\n",
        "plt.ylim(xx2.min(), xx2.max())\n",
        "\n",
        "plt.legend(['class1', 'class2', 'class3'])\n",
        "plt.scatter(train_lC1x, train_lC1y)\n",
        "plt.scatter(train_lC2x, train_lC2y)\n",
        "plt.scatter(train_lC3x, train_lC3y)\n",
        "plt.title('Decision Boundary for Classifier 2')\n",
        "plt.show()"
      ],
      "metadata": {
        "colab": {
          "base_uri": "https://localhost:8080/",
          "height": 281
        },
        "id": "RoltY766UqsI",
        "outputId": "fd610bcb-f301-45a9-deab-649f220c61a1"
      },
      "execution_count": 59,
      "outputs": [
        {
          "output_type": "display_data",
          "data": {
            "text/plain": [
              "<Figure size 432x288 with 1 Axes>"
            ],
            "image/png": "[encoded data removed]"
          },
          "metadata": {
            "needs_background": "light"
          }
        }
      ]
    },
    {
      "cell_type": "markdown",
      "source": [
        "### Classifier 3\n",
        "\n",
        "*Diagonal covariance matrix, distinct for each class. Use variances from the sample covariance matrix for each class*"
      ],
      "metadata": {
        "id": "glnTKRXkVCd9"
      }
    },
    {
      "cell_type": "code",
      "source": [
        "dcov1 = covlc1.copy()\n",
        "dcov1[0][1] = 0\n",
        "dcov1[1][0] = 0\n",
        "\n",
        "dcov2 = covlc2.copy()\n",
        "dcov2[0][1] = 0\n",
        "dcov2[1][0] = 0\n",
        "\n",
        "dcov3 = covlc3.copy()\n",
        "dcov1[0][1] = 0\n",
        "dcov1[1][0] = 0\n",
        "\n",
        "classifier3_cov = (dcov1, dcov2, dcov3)"
      ],
      "metadata": {
        "id": "t4kMfwDRU2BQ"
      },
      "execution_count": 82,
      "outputs": []
    },
    {
      "cell_type": "code",
      "source": [
        "def classifier3(x, y, mu, cov, prior):\n",
        "  mu1, mu2, mu3 = mu\n",
        "  prior1, prior2, prior3 = prior \n",
        "  cov1, cov2, cov3 = cov\n",
        "  classifier3_pred = []\n",
        "  for i in range(len(x)):\n",
        "    xi = [x[i], y[i]]\n",
        "    lh1 = multivariateDensity(xi, mu1, cov1)\n",
        "    lh2 = multivariateDensity(xi, mu2, cov2)\n",
        "    lh3 = multivariateDensity(xi, mu3, cov3)\n",
        "\n",
        "    posterior1 = (prior1 * lh1) / (lh1 * prior1 + lh2 * prior2 + lh3 * prior3)\n",
        "    posterior2 = (prior2 * lh2) / (lh1 * prior1 + lh2 * prior2 + lh3 * prior3)\n",
        "    posterior3 = (prior3 * lh3) / (lh1 * prior1 + lh2 * prior2 + lh3 * prior3)\n",
        "\n",
        "    posterior = np.array([posterior1, posterior2, posterior3])\n",
        "    pred = np.argmax(posterior)\n",
        "    classifier3_pred.append(pred)\n",
        "\n",
        "  return classifier3_pred"
      ],
      "metadata": {
        "id": "Iqr0qeNHZtFM"
      },
      "execution_count": 76,
      "outputs": []
    },
    {
      "cell_type": "code",
      "source": [
        "meanl = (meanlc1, meanlc2, meanlc3)\n",
        "priorl = (priorlC1, priorlC2, priorlC3)\n",
        "classifier3_pred = classifier3(test_datalx, test_dataly, meanl, classifier3_cov, priorl)\n",
        "classifier3_pred = [i+1 for i in classifier3_pred]"
      ],
      "metadata": {
        "id": "l7155EgYZ5ko"
      },
      "execution_count": 77,
      "outputs": []
    },
    {
      "cell_type": "code",
      "source": [
        "C3cm = confusion_matrix(classifier3_pred, Gtl)\n",
        "print('CONFUSION MATRIX\\n', C3cm)"
      ],
      "metadata": {
        "colab": {
          "base_uri": "https://localhost:8080/"
        },
        "id": "2zmoS0x9bTRP",
        "outputId": "d2dc99a6-1984-4189-ca2f-c54c0ee4289a"
      },
      "execution_count": 78,
      "outputs": [
        {
          "output_type": "stream",
          "name": "stdout",
          "text": [
            "CONFUSION MATRIX\n",
            " [[250, 0, 0], [0, 250, 0], [0, 0, 250]]\n"
          ]
        }
      ]
    },
    {
      "cell_type": "code",
      "source": [
        "C3_Accuracy = accuracy(C3cm)\n",
        "C3_precision = precision(C3cm)\n",
        "C3_recall = recall(C3cm)\n",
        "C3_Fmeasure = Fmeasure(C3cm)\n",
        "print('CLASSIFIER3 SCORES\\nAccuracy : {}\\nPrecision = {}\\nRecall = {}\\nF Measure = {}'.format(C3_Accuracy, C3_precision, C3_recall, C3_Fmeasure))"
      ],
      "metadata": {
        "colab": {
          "base_uri": "https://localhost:8080/"
        },
        "id": "Pm7jMQYfbY_h",
        "outputId": "20f7815c-6b7f-49e7-9e79-0fc81789898a"
      },
      "execution_count": 79,
      "outputs": [
        {
          "output_type": "stream",
          "name": "stdout",
          "text": [
            "CLASSIFIER3 SCORES\n",
            "Accuracy : 1.0\n",
            "Precision = 1.0\n",
            "Recall = 1.0\n",
            "F Measure = 1.0\n"
          ]
        }
      ]
    },
    {
      "cell_type": "code",
      "source": [
        "markers = ('s', 'x', 'o', '^', 'v')\n",
        "colors = ('red', 'blue', 'lightgreen', 'gray', 'cyan')\n",
        "cmap = ListedColormap(colors[:len(np.unique(dvly))])\n",
        "resolution = 0.1\n",
        "\n",
        "\n",
        "xx1, xx2 = np.meshgrid(np.arange(lminx, lmaxx, resolution), np.arange(lminy, lmaxy, resolution))\n",
        "\n",
        "Z = np.array(classifier3(xx1.ravel(), xx2.ravel(), meanl, classifier3_cov, priorl))\n",
        "Z = Z.reshape(xx1.shape)\n",
        "\n",
        "plt.contourf(xx1, xx2, Z, alpha=0.3, cmap=cmap)\n",
        "plt.xlim(xx1.min(), xx1.max())\n",
        "plt.ylim(xx2.min(), xx2.max())\n",
        "\n",
        "plt.legend(['class1', 'class2', 'class3'])\n",
        "plt.scatter(train_lC1x, train_lC1y)\n",
        "plt.scatter(train_lC2x, train_lC2y)\n",
        "plt.scatter(train_lC3x, train_lC3y)\n",
        "plt.title('Decision Boundary for Classifier 2')\n",
        "plt.show()"
      ],
      "metadata": {
        "colab": {
          "base_uri": "https://localhost:8080/",
          "height": 281
        },
        "id": "CkA-oeAJbksX",
        "outputId": "26a4c38c-28c1-49d1-c4d0-3d39efaf99e2"
      },
      "execution_count": 80,
      "outputs": [
        {
          "output_type": "display_data",
          "data": {
            "text/plain": [
              "<Figure size 432x288 with 1 Axes>"
            ],
            "image/png": "[encoded data removed]"
          },
          "metadata": {
            "needs_background": "light"
          }
        }
      ]
    },
    {
      "cell_type": "markdown",
      "source": [
        "### Classifier 4\n",
        "*Full covariance matrix, distinct for each class. Use the sample covariance matrix for each class.*"
      ],
      "metadata": {
        "id": "NujgoN1Ab17m"
      }
    },
    {
      "cell_type": "code",
      "source": [
        "classifier4_cov = (covlc1, covlc2, covlc3)"
      ],
      "metadata": {
        "id": "AI2daY3jcL-G"
      },
      "execution_count": 83,
      "outputs": []
    },
    {
      "cell_type": "code",
      "source": [
        "def classifier4(x, y, mu, cov, prior):\n",
        "  mu1, mu2, mu3 = mu\n",
        "  prior1, prior2, prior3 = prior \n",
        "  cov1, cov2, cov3 = cov\n",
        "  classifier3_pred = []\n",
        "  for i in range(len(x)):\n",
        "    xi = [x[i], y[i]]\n",
        "    lh1 = multivariateDensity(xi, mu1, cov1)\n",
        "    lh2 = multivariateDensity(xi, mu2, cov2)\n",
        "    lh3 = multivariateDensity(xi, mu3, cov3)\n",
        "\n",
        "    posterior1 = (prior1 * lh1) / (lh1 * prior1 + lh2 * prior2 + lh3 * prior3)\n",
        "    posterior2 = (prior2 * lh2) / (lh1 * prior1 + lh2 * prior2 + lh3 * prior3)\n",
        "    posterior3 = (prior3 * lh3) / (lh1 * prior1 + lh2 * prior2 + lh3 * prior3)\n",
        "\n",
        "    posterior = np.array([posterior1, posterior2, posterior3])\n",
        "    pred = np.argmax(posterior)\n",
        "    classifier3_pred.append(pred)\n",
        "\n",
        "  return classifier3_pred"
      ],
      "metadata": {
        "id": "R-R0uLl4b0Fx"
      },
      "execution_count": 85,
      "outputs": []
    },
    {
      "cell_type": "code",
      "source": [
        "meanl = (meanlc1, meanlc2, meanlc3)\n",
        "priorl = (priorlC1, priorlC2, priorlC3)\n",
        "classifier4_pred = classifier4(test_datalx, test_dataly, meanl, classifier4_cov, priorl)\n",
        "classifier4_pred = [i+1 for i in classifier4_pred]"
      ],
      "metadata": {
        "id": "PTHoWBNBcH-A"
      },
      "execution_count": 86,
      "outputs": []
    },
    {
      "cell_type": "code",
      "source": [
        "C4cm = confusion_matrix(classifier4_pred, Gtl)\n",
        "print('CONFUSION MATRIX\\n', C4cm)"
      ],
      "metadata": {
        "colab": {
          "base_uri": "https://localhost:8080/"
        },
        "id": "t9U2Pd1Pcbdz",
        "outputId": "2723ec01-7300-44f1-8e84-c91ceefc9023"
      },
      "execution_count": 87,
      "outputs": [
        {
          "output_type": "stream",
          "name": "stdout",
          "text": [
            "CONFUSION MATRIX\n",
            " [[250, 0, 0], [0, 250, 0], [0, 0, 250]]\n"
          ]
        }
      ]
    },
    {
      "cell_type": "code",
      "source": [
        "C4_Accuracy = accuracy(C4cm)\n",
        "C4_precision = precision(C4cm)\n",
        "C4_recall = recall(C4cm)\n",
        "C4_Fmeasure = Fmeasure(C4cm)\n",
        "print('CLASSIFIER4 SCORES\\nAccuracy : {}\\nPrecision = {}\\nRecall = {}\\nF Measure = {}'.format(C4_Accuracy, C4_precision, C4_recall, C4_Fmeasure))"
      ],
      "metadata": {
        "colab": {
          "base_uri": "https://localhost:8080/"
        },
        "id": "nMqqlH6dcgA6",
        "outputId": "9384e191-027a-4064-8289-dbb4865d6bde"
      },
      "execution_count": 88,
      "outputs": [
        {
          "output_type": "stream",
          "name": "stdout",
          "text": [
            "CLASSIFIER4 SCORES\n",
            "Accuracy : 1.0\n",
            "Precision = 1.0\n",
            "Recall = 1.0\n",
            "F Measure = 1.0\n"
          ]
        }
      ]
    },
    {
      "cell_type": "code",
      "source": [
        "markers = ('s', 'x', 'o', '^', 'v')\n",
        "colors = ('red', 'blue', 'lightgreen', 'gray', 'cyan')\n",
        "cmap = ListedColormap(colors[:len(np.unique(dvly))])\n",
        "resolution = 0.1\n",
        "\n",
        "\n",
        "xx1, xx2 = np.meshgrid(np.arange(lminx, lmaxx, resolution), np.arange(lminy, lmaxy, resolution))\n",
        "\n",
        "Z = np.array(classifier3(xx1.ravel(), xx2.ravel(), meanl, classifier4_cov, priorl))\n",
        "Z = Z.reshape(xx1.shape)\n",
        "\n",
        "plt.contourf(xx1, xx2, Z, alpha=0.3, cmap=cmap)\n",
        "plt.xlim(xx1.min(), xx1.max())\n",
        "plt.ylim(xx2.min(), xx2.max())\n",
        "\n",
        "plt.legend(['class1', 'class2', 'class3'])\n",
        "plt.scatter(train_lC1x, train_lC1y)\n",
        "plt.scatter(train_lC2x, train_lC2y)\n",
        "plt.scatter(train_lC3x, train_lC3y)\n",
        "plt.title('Decision Boundary for Classifier 2')\n",
        "plt.show()"
      ],
      "metadata": {
        "colab": {
          "base_uri": "https://localhost:8080/",
          "height": 281
        },
        "id": "ujz21vBIcp_a",
        "outputId": "ab298e81-5309-421a-ff00-80bedebff0f4"
      },
      "execution_count": 89,
      "outputs": [
        {
          "output_type": "display_data",
          "data": {
            "text/plain": [
              "<Figure size 432x288 with 1 Axes>"
            ],
            "image/png": "[encoded data removed]"
          },
          "metadata": {
            "needs_background": "light"
          }
        }
      ]
    },
    {
      "cell_type": "markdown",
      "source": [
        "# Bayes Classifier for Non Linearly Separable Dataset"
      ],
      "metadata": {
        "id": "qewVwoAXc7AI"
      }
    },
    {
      "cell_type": "code",
      "source": [],
      "metadata": {
        "id": "0dsRJt_Rctl1"
      },
      "execution_count": null,
      "outputs": []
    }
  ]
}